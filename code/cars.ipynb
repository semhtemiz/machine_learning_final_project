{
 "cells": [
  {
   "cell_type": "markdown",
   "metadata": {},
   "source": [
    "## Araç Fiyat Tahmini ve Analizi"
   ]
  },
  {
   "cell_type": "markdown",
   "metadata": {},
   "source": [
    "Kullanacağımız kütüphaneleri import edelim."
   ]
  },
  {
   "cell_type": "code",
   "execution_count": 76,
   "metadata": {},
   "outputs": [],
   "source": [
    "import math\n",
    "import numpy as np\n",
    "import pandas as pd\n",
    "import seaborn as sns\n",
    "import matplotlib.pyplot as plt\n",
    "from sklearn.preprocessing import LabelEncoder\n",
    "from sklearn.model_selection import train_test_split\n",
    "from sklearn.linear_model import LinearRegression, Ridge, Lasso\n",
    "from sklearn.ensemble import RandomForestRegressor, GradientBoostingRegressor\n",
    "from sklearn.neighbors import KNeighborsRegressor\n",
    "from sklearn.metrics import mean_squared_error, mean_absolute_error, r2_score\n",
    "\n"
   ]
  },
  {
   "cell_type": "markdown",
   "metadata": {},
   "source": [
    "Kullanacağımız veri setini dosya yolunu alarak *pandas* kütüphanesinin **read_csv()** metodu sayesinde entegre edelim."
   ]
  },
  {
   "cell_type": "code",
   "execution_count": 77,
   "metadata": {},
   "outputs": [],
   "source": [
    "dataset_path='../data/cars.csv'\n",
    "df=pd.read_csv(dataset_path)"
   ]
  },
  {
   "cell_type": "markdown",
   "metadata": {},
   "source": [
    "### Veri setine ilk bakış..."
   ]
  },
  {
   "cell_type": "code",
   "execution_count": 78,
   "metadata": {},
   "outputs": [
    {
     "data": {
      "text/html": [
       "<div>\n",
       "<style scoped>\n",
       "    .dataframe tbody tr th:only-of-type {\n",
       "        vertical-align: middle;\n",
       "    }\n",
       "\n",
       "    .dataframe tbody tr th {\n",
       "        vertical-align: top;\n",
       "    }\n",
       "\n",
       "    .dataframe thead th {\n",
       "        text-align: right;\n",
       "    }\n",
       "</style>\n",
       "<table border=\"1\" class=\"dataframe\">\n",
       "  <thead>\n",
       "    <tr style=\"text-align: right;\">\n",
       "      <th></th>\n",
       "      <th>OFF_BY_COMPANY</th>\n",
       "      <th>CAR_NAME</th>\n",
       "      <th>Transmission _Type</th>\n",
       "      <th>KM_DIVEN_BY</th>\n",
       "      <th>OWNER_TYPE</th>\n",
       "      <th>FUEL_TYPE</th>\n",
       "      <th>EMI</th>\n",
       "      <th>SELLING_PRICE</th>\n",
       "      <th>DOWNPAYMENT</th>\n",
       "      <th>TOTAL_PRICE</th>\n",
       "    </tr>\n",
       "  </thead>\n",
       "  <tbody>\n",
       "    <tr>\n",
       "      <th>0</th>\n",
       "      <td>₹29,000 OFF</td>\n",
       "      <td>2015 Maruti Swift</td>\n",
       "      <td>Manual</td>\n",
       "      <td>37,925 km</td>\n",
       "      <td>1st Owner</td>\n",
       "      <td>Diesel</td>\n",
       "      <td>₹9,036/month</td>\n",
       "      <td>₹ 4,06,199.00</td>\n",
       "      <td>Zero downpayment</td>\n",
       "      <td>₹ 4,35,199.00</td>\n",
       "    </tr>\n",
       "    <tr>\n",
       "      <th>1</th>\n",
       "      <td>₹25,000 OFF</td>\n",
       "      <td>2020 KIA SELTOS</td>\n",
       "      <td>Manual</td>\n",
       "      <td>5,822 km</td>\n",
       "      <td>2nd Owner</td>\n",
       "      <td>Petrol</td>\n",
       "      <td>₹25,499/month</td>\n",
       "      <td>₹ 11,46,299.00</td>\n",
       "      <td>Zero downpayment</td>\n",
       "      <td>₹ 11,71,299.00</td>\n",
       "    </tr>\n",
       "    <tr>\n",
       "      <th>2</th>\n",
       "      <td>₹32,000 OFF</td>\n",
       "      <td>2015 Maruti S Cross</td>\n",
       "      <td>Manual</td>\n",
       "      <td>95,369 km</td>\n",
       "      <td>1st Owner</td>\n",
       "      <td>Diesel</td>\n",
       "      <td>₹13,376/month</td>\n",
       "      <td>₹ 6,01,299.00</td>\n",
       "      <td>Zero downpayment</td>\n",
       "      <td>₹ 6,33,299.00</td>\n",
       "    </tr>\n",
       "    <tr>\n",
       "      <th>3</th>\n",
       "      <td>₹16,000 OFF</td>\n",
       "      <td>2018 Renault Kwid</td>\n",
       "      <td>Manual</td>\n",
       "      <td>33,167 km</td>\n",
       "      <td>2nd Owner</td>\n",
       "      <td>Petrol</td>\n",
       "      <td>₹6,371/month</td>\n",
       "      <td>₹ 2,86,399.00</td>\n",
       "      <td>Zero downpayment</td>\n",
       "      <td>₹ 3,02,399.00</td>\n",
       "    </tr>\n",
       "    <tr>\n",
       "      <th>4</th>\n",
       "      <td>₹43,000 OFF</td>\n",
       "      <td>2017 Hyundai Creta</td>\n",
       "      <td>Manual</td>\n",
       "      <td>19,885 km</td>\n",
       "      <td>1st Owner</td>\n",
       "      <td>Diesel</td>\n",
       "      <td>₹17,847/month</td>\n",
       "      <td>₹ 8,02,299.00</td>\n",
       "      <td>Zero downpayment</td>\n",
       "      <td>₹ 8,45,299.00</td>\n",
       "    </tr>\n",
       "  </tbody>\n",
       "</table>\n",
       "</div>"
      ],
      "text/plain": [
       "  OFF_BY_COMPANY            CAR_NAME  Transmission _Type KM_DIVEN_BY  \\\n",
       "0    ₹29,000 OFF    2015 Maruti Swift             Manual   37,925 km   \n",
       "1    ₹25,000 OFF      2020 KIA SELTOS             Manual    5,822 km   \n",
       "2    ₹32,000 OFF  2015 Maruti S Cross             Manual   95,369 km   \n",
       "3    ₹16,000 OFF    2018 Renault Kwid             Manual   33,167 km   \n",
       "4    ₹43,000 OFF   2017 Hyundai Creta             Manual   19,885 km   \n",
       "\n",
       "  OWNER_TYPE FUEL_TYPE            EMI   SELLING_PRICE       DOWNPAYMENT  \\\n",
       "0  1st Owner    Diesel   ₹9,036/month   ₹ 4,06,199.00  Zero downpayment   \n",
       "1  2nd Owner    Petrol  ₹25,499/month  ₹ 11,46,299.00  Zero downpayment   \n",
       "2  1st Owner    Diesel  ₹13,376/month   ₹ 6,01,299.00  Zero downpayment   \n",
       "3  2nd Owner    Petrol   ₹6,371/month   ₹ 2,86,399.00  Zero downpayment   \n",
       "4  1st Owner    Diesel  ₹17,847/month   ₹ 8,02,299.00  Zero downpayment   \n",
       "\n",
       "      TOTAL_PRICE  \n",
       "0   ₹ 4,35,199.00  \n",
       "1  ₹ 11,71,299.00  \n",
       "2   ₹ 6,33,299.00  \n",
       "3   ₹ 3,02,399.00  \n",
       "4   ₹ 8,45,299.00  "
      ]
     },
     "execution_count": 78,
     "metadata": {},
     "output_type": "execute_result"
    }
   ],
   "source": [
    "df.head()"
   ]
  },
  {
   "cell_type": "markdown",
   "metadata": {},
   "source": [
    "Veri ön işleme kısmında baya bir işimiz var gibi duruyor. Bir de diğer detaylara bakalım."
   ]
  },
  {
   "cell_type": "code",
   "execution_count": 79,
   "metadata": {},
   "outputs": [
    {
     "name": "stdout",
     "output_type": "stream",
     "text": [
      "<class 'pandas.core.frame.DataFrame'>\n",
      "RangeIndex: 1084 entries, 0 to 1083\n",
      "Data columns (total 10 columns):\n",
      " #   Column              Non-Null Count  Dtype \n",
      "---  ------              --------------  ----- \n",
      " 0   OFF_BY_COMPANY      1072 non-null   object\n",
      " 1   CAR_NAME            1083 non-null   object\n",
      " 2   Transmission _Type  1057 non-null   object\n",
      " 3   KM_DIVEN_BY         1083 non-null   object\n",
      " 4   OWNER_TYPE          1083 non-null   object\n",
      " 5   FUEL_TYPE           1083 non-null   object\n",
      " 6   EMI                 1083 non-null   object\n",
      " 7   SELLING_PRICE       1083 non-null   object\n",
      " 8   DOWNPAYMENT         1083 non-null   object\n",
      " 9   TOTAL_PRICE         1072 non-null   object\n",
      "dtypes: object(10)\n",
      "memory usage: 84.8+ KB\n"
     ]
    },
    {
     "data": {
      "text/plain": [
       "((1084, 10),\n",
       " None,\n",
       "        OFF_BY_COMPANY          CAR_NAME  Transmission _Type KM_DIVEN_BY  \\\n",
       " count            1072               1083               1057        1083   \n",
       " unique             46                239                  2         804   \n",
       " top        ₹5,000 OFF  2015 Maruti Swift             Manual   20,259 km   \n",
       " freq              174                 33                990           3   \n",
       " \n",
       "        OWNER_TYPE FUEL_TYPE            EMI  SELLING_PRICE       DOWNPAYMENT  \\\n",
       " count        1083      1083           1083           1083              1083   \n",
       " unique          4         3            763            763                 1   \n",
       " top     1st Owner    Petrol  ₹10,526/month  ₹ 4,73,199.00  Zero downpayment   \n",
       " freq          914       637              6              6              1083   \n",
       " \n",
       "           TOTAL_PRICE  \n",
       " count            1072  \n",
       " unique            743  \n",
       " top     ₹ 5,73,099.00  \n",
       " freq                6  )"
      ]
     },
     "execution_count": 79,
     "metadata": {},
     "output_type": "execute_result"
    }
   ],
   "source": [
    "df.shape, df.info() , df.describe()"
   ]
  },
  {
   "cell_type": "markdown",
   "metadata": {},
   "source": [
    "Veri setimizde **1084 satır | 10 sütun** olacak şekilde olduğunu görüyoruz. Ayrıca her bir sütun özelliklerini **object** yapısında olduğunu görüyoruz ve bu özellikler kendi içerisinde **string**, **int** ve **float** olarak farklı veri tiplerine dönüştürülebilecek şeklinde gözüküyor."
   ]
  },
  {
   "cell_type": "markdown",
   "metadata": {},
   "source": [
    "### Veri ön işleme süreci başlasın..."
   ]
  },
  {
   "cell_type": "markdown",
   "metadata": {},
   "source": [
    "Öncelikle sütun adlarını daha anlaşılabilir olması için türkçeye çevirelim."
   ]
  },
  {
   "cell_type": "code",
   "execution_count": 80,
   "metadata": {},
   "outputs": [],
   "source": [
    "#Sütun adlarını değiştirmeden önce boşluk varsa onu kaldıralım.\n",
    "df.columns = df.columns.str.strip()\n",
    "#Sütun adlarını değiştirelim.\n",
    "df=df.rename(columns={\n",
    "    'OFF_BY_COMPANY':'kampanya',\n",
    "    'CAR_NAME':'araba_adi',\n",
    "    'Transmission _Type':'vites_tipi',\n",
    "    'KM_DIVEN_BY':'km',\n",
    "    'OWNER_TYPE':'sahiplik',\n",
    "    'FUEL_TYPE':'yakit_tipi',\n",
    "    'EMI':'aylik_taksit',\n",
    "    'SELLING_PRICE':'satis_fiyati',\n",
    "    'DOWNPAYMENT':'pesinat_bilgisi',\n",
    "    'TOTAL_PRICE':'toplam_fiyat'\n",
    "    })\n",
    "    "
   ]
  },
  {
   "cell_type": "markdown",
   "metadata": {},
   "source": [
    "Sütun adlarını değiştirdik yine de garanti olması için karakter boşlukları varsa onları bir temizleyelim, ileride sıkıntı çıkarmasın."
   ]
  },
  {
   "cell_type": "code",
   "execution_count": 81,
   "metadata": {},
   "outputs": [
    {
     "data": {
      "text/html": [
       "<div>\n",
       "<style scoped>\n",
       "    .dataframe tbody tr th:only-of-type {\n",
       "        vertical-align: middle;\n",
       "    }\n",
       "\n",
       "    .dataframe tbody tr th {\n",
       "        vertical-align: top;\n",
       "    }\n",
       "\n",
       "    .dataframe thead th {\n",
       "        text-align: right;\n",
       "    }\n",
       "</style>\n",
       "<table border=\"1\" class=\"dataframe\">\n",
       "  <thead>\n",
       "    <tr style=\"text-align: right;\">\n",
       "      <th></th>\n",
       "      <th>kampanya</th>\n",
       "      <th>araba_adi</th>\n",
       "      <th>vites_tipi</th>\n",
       "      <th>km</th>\n",
       "      <th>sahiplik</th>\n",
       "      <th>yakit_tipi</th>\n",
       "      <th>aylik_taksit</th>\n",
       "      <th>satis_fiyati</th>\n",
       "      <th>pesinat_bilgisi</th>\n",
       "      <th>toplam_fiyat</th>\n",
       "    </tr>\n",
       "  </thead>\n",
       "  <tbody>\n",
       "    <tr>\n",
       "      <th>0</th>\n",
       "      <td>₹29,000 OFF</td>\n",
       "      <td>2015 Maruti Swift</td>\n",
       "      <td>Manual</td>\n",
       "      <td>37,925 km</td>\n",
       "      <td>1st Owner</td>\n",
       "      <td>Diesel</td>\n",
       "      <td>₹9,036/month</td>\n",
       "      <td>₹ 4,06,199.00</td>\n",
       "      <td>Zero downpayment</td>\n",
       "      <td>₹ 4,35,199.00</td>\n",
       "    </tr>\n",
       "    <tr>\n",
       "      <th>1</th>\n",
       "      <td>₹25,000 OFF</td>\n",
       "      <td>2020 KIA SELTOS</td>\n",
       "      <td>Manual</td>\n",
       "      <td>5,822 km</td>\n",
       "      <td>2nd Owner</td>\n",
       "      <td>Petrol</td>\n",
       "      <td>₹25,499/month</td>\n",
       "      <td>₹ 11,46,299.00</td>\n",
       "      <td>Zero downpayment</td>\n",
       "      <td>₹ 11,71,299.00</td>\n",
       "    </tr>\n",
       "    <tr>\n",
       "      <th>2</th>\n",
       "      <td>₹32,000 OFF</td>\n",
       "      <td>2015 Maruti S Cross</td>\n",
       "      <td>Manual</td>\n",
       "      <td>95,369 km</td>\n",
       "      <td>1st Owner</td>\n",
       "      <td>Diesel</td>\n",
       "      <td>₹13,376/month</td>\n",
       "      <td>₹ 6,01,299.00</td>\n",
       "      <td>Zero downpayment</td>\n",
       "      <td>₹ 6,33,299.00</td>\n",
       "    </tr>\n",
       "    <tr>\n",
       "      <th>3</th>\n",
       "      <td>₹16,000 OFF</td>\n",
       "      <td>2018 Renault Kwid</td>\n",
       "      <td>Manual</td>\n",
       "      <td>33,167 km</td>\n",
       "      <td>2nd Owner</td>\n",
       "      <td>Petrol</td>\n",
       "      <td>₹6,371/month</td>\n",
       "      <td>₹ 2,86,399.00</td>\n",
       "      <td>Zero downpayment</td>\n",
       "      <td>₹ 3,02,399.00</td>\n",
       "    </tr>\n",
       "    <tr>\n",
       "      <th>4</th>\n",
       "      <td>₹43,000 OFF</td>\n",
       "      <td>2017 Hyundai Creta</td>\n",
       "      <td>Manual</td>\n",
       "      <td>19,885 km</td>\n",
       "      <td>1st Owner</td>\n",
       "      <td>Diesel</td>\n",
       "      <td>₹17,847/month</td>\n",
       "      <td>₹ 8,02,299.00</td>\n",
       "      <td>Zero downpayment</td>\n",
       "      <td>₹ 8,45,299.00</td>\n",
       "    </tr>\n",
       "  </tbody>\n",
       "</table>\n",
       "</div>"
      ],
      "text/plain": [
       "      kampanya            araba_adi vites_tipi         km   sahiplik  \\\n",
       "0  ₹29,000 OFF    2015 Maruti Swift     Manual  37,925 km  1st Owner   \n",
       "1  ₹25,000 OFF      2020 KIA SELTOS     Manual   5,822 km  2nd Owner   \n",
       "2  ₹32,000 OFF  2015 Maruti S Cross     Manual  95,369 km  1st Owner   \n",
       "3  ₹16,000 OFF    2018 Renault Kwid     Manual  33,167 km  2nd Owner   \n",
       "4  ₹43,000 OFF   2017 Hyundai Creta     Manual  19,885 km  1st Owner   \n",
       "\n",
       "  yakit_tipi   aylik_taksit    satis_fiyati   pesinat_bilgisi    toplam_fiyat  \n",
       "0     Diesel   ₹9,036/month   ₹ 4,06,199.00  Zero downpayment   ₹ 4,35,199.00  \n",
       "1     Petrol  ₹25,499/month  ₹ 11,46,299.00  Zero downpayment  ₹ 11,71,299.00  \n",
       "2     Diesel  ₹13,376/month   ₹ 6,01,299.00  Zero downpayment   ₹ 6,33,299.00  \n",
       "3     Petrol   ₹6,371/month   ₹ 2,86,399.00  Zero downpayment   ₹ 3,02,399.00  \n",
       "4     Diesel  ₹17,847/month   ₹ 8,02,299.00  Zero downpayment   ₹ 8,45,299.00  "
      ]
     },
     "execution_count": 81,
     "metadata": {},
     "output_type": "execute_result"
    }
   ],
   "source": [
    "df.columns = df.columns.str.strip()\n",
    "df.head()"
   ]
  },
  {
   "cell_type": "markdown",
   "metadata": {},
   "source": [
    "Şimdi de **null** değer var mı kontrol edelim."
   ]
  },
  {
   "cell_type": "code",
   "execution_count": 82,
   "metadata": {},
   "outputs": [
    {
     "data": {
      "text/plain": [
       "kampanya           12\n",
       "araba_adi           1\n",
       "vites_tipi         27\n",
       "km                  1\n",
       "sahiplik            1\n",
       "yakit_tipi          1\n",
       "aylik_taksit        1\n",
       "satis_fiyati        1\n",
       "pesinat_bilgisi     1\n",
       "toplam_fiyat       12\n",
       "dtype: int64"
      ]
     },
     "execution_count": 82,
     "metadata": {},
     "output_type": "execute_result"
    }
   ],
   "source": [
    "df.isnull().sum()"
   ]
  },
  {
   "cell_type": "markdown",
   "metadata": {},
   "source": [
    "Veri setinin boyutuna göre çok az null değer var bunlarla uğraşıp zaman kaybetmektense direkt o satırları silebiliriz."
   ]
  },
  {
   "cell_type": "code",
   "execution_count": 83,
   "metadata": {},
   "outputs": [],
   "source": [
    "df=df.dropna()"
   ]
  },
  {
   "cell_type": "markdown",
   "metadata": {},
   "source": [
    "Silme işleminden sonra tekrar kontrol edelim."
   ]
  },
  {
   "cell_type": "code",
   "execution_count": 84,
   "metadata": {},
   "outputs": [
    {
     "data": {
      "text/plain": [
       "kampanya           0\n",
       "araba_adi          0\n",
       "vites_tipi         0\n",
       "km                 0\n",
       "sahiplik           0\n",
       "yakit_tipi         0\n",
       "aylik_taksit       0\n",
       "satis_fiyati       0\n",
       "pesinat_bilgisi    0\n",
       "toplam_fiyat       0\n",
       "dtype: int64"
      ]
     },
     "execution_count": 84,
     "metadata": {},
     "output_type": "execute_result"
    }
   ],
   "source": [
    "df.isnull().sum()"
   ]
  },
  {
   "cell_type": "markdown",
   "metadata": {},
   "source": [
    "Güzel. Sırada object değerleri makinenin anlayacağı formata ve değerlere çevirmek var."
   ]
  },
  {
   "cell_type": "code",
   "execution_count": 85,
   "metadata": {},
   "outputs": [
    {
     "data": {
      "text/html": [
       "<div>\n",
       "<style scoped>\n",
       "    .dataframe tbody tr th:only-of-type {\n",
       "        vertical-align: middle;\n",
       "    }\n",
       "\n",
       "    .dataframe tbody tr th {\n",
       "        vertical-align: top;\n",
       "    }\n",
       "\n",
       "    .dataframe thead th {\n",
       "        text-align: right;\n",
       "    }\n",
       "</style>\n",
       "<table border=\"1\" class=\"dataframe\">\n",
       "  <thead>\n",
       "    <tr style=\"text-align: right;\">\n",
       "      <th></th>\n",
       "      <th>kampanya</th>\n",
       "      <th>araba_adi</th>\n",
       "      <th>vites_tipi</th>\n",
       "      <th>km</th>\n",
       "      <th>sahiplik</th>\n",
       "      <th>yakit_tipi</th>\n",
       "      <th>aylik_taksit</th>\n",
       "      <th>satis_fiyati</th>\n",
       "      <th>pesinat_bilgisi</th>\n",
       "      <th>toplam_fiyat</th>\n",
       "    </tr>\n",
       "  </thead>\n",
       "  <tbody>\n",
       "    <tr>\n",
       "      <th>0</th>\n",
       "      <td>₹29,000 OFF</td>\n",
       "      <td>2015 Maruti Swift</td>\n",
       "      <td>Manual</td>\n",
       "      <td>37,925 km</td>\n",
       "      <td>1st Owner</td>\n",
       "      <td>Diesel</td>\n",
       "      <td>₹9,036/month</td>\n",
       "      <td>₹ 4,06,199.00</td>\n",
       "      <td>Zero downpayment</td>\n",
       "      <td>₹ 4,35,199.00</td>\n",
       "    </tr>\n",
       "    <tr>\n",
       "      <th>1</th>\n",
       "      <td>₹25,000 OFF</td>\n",
       "      <td>2020 KIA SELTOS</td>\n",
       "      <td>Manual</td>\n",
       "      <td>5,822 km</td>\n",
       "      <td>2nd Owner</td>\n",
       "      <td>Petrol</td>\n",
       "      <td>₹25,499/month</td>\n",
       "      <td>₹ 11,46,299.00</td>\n",
       "      <td>Zero downpayment</td>\n",
       "      <td>₹ 11,71,299.00</td>\n",
       "    </tr>\n",
       "    <tr>\n",
       "      <th>2</th>\n",
       "      <td>₹32,000 OFF</td>\n",
       "      <td>2015 Maruti S Cross</td>\n",
       "      <td>Manual</td>\n",
       "      <td>95,369 km</td>\n",
       "      <td>1st Owner</td>\n",
       "      <td>Diesel</td>\n",
       "      <td>₹13,376/month</td>\n",
       "      <td>₹ 6,01,299.00</td>\n",
       "      <td>Zero downpayment</td>\n",
       "      <td>₹ 6,33,299.00</td>\n",
       "    </tr>\n",
       "    <tr>\n",
       "      <th>3</th>\n",
       "      <td>₹16,000 OFF</td>\n",
       "      <td>2018 Renault Kwid</td>\n",
       "      <td>Manual</td>\n",
       "      <td>33,167 km</td>\n",
       "      <td>2nd Owner</td>\n",
       "      <td>Petrol</td>\n",
       "      <td>₹6,371/month</td>\n",
       "      <td>₹ 2,86,399.00</td>\n",
       "      <td>Zero downpayment</td>\n",
       "      <td>₹ 3,02,399.00</td>\n",
       "    </tr>\n",
       "    <tr>\n",
       "      <th>4</th>\n",
       "      <td>₹43,000 OFF</td>\n",
       "      <td>2017 Hyundai Creta</td>\n",
       "      <td>Manual</td>\n",
       "      <td>19,885 km</td>\n",
       "      <td>1st Owner</td>\n",
       "      <td>Diesel</td>\n",
       "      <td>₹17,847/month</td>\n",
       "      <td>₹ 8,02,299.00</td>\n",
       "      <td>Zero downpayment</td>\n",
       "      <td>₹ 8,45,299.00</td>\n",
       "    </tr>\n",
       "  </tbody>\n",
       "</table>\n",
       "</div>"
      ],
      "text/plain": [
       "      kampanya            araba_adi vites_tipi         km   sahiplik  \\\n",
       "0  ₹29,000 OFF    2015 Maruti Swift     Manual  37,925 km  1st Owner   \n",
       "1  ₹25,000 OFF      2020 KIA SELTOS     Manual   5,822 km  2nd Owner   \n",
       "2  ₹32,000 OFF  2015 Maruti S Cross     Manual  95,369 km  1st Owner   \n",
       "3  ₹16,000 OFF    2018 Renault Kwid     Manual  33,167 km  2nd Owner   \n",
       "4  ₹43,000 OFF   2017 Hyundai Creta     Manual  19,885 km  1st Owner   \n",
       "\n",
       "  yakit_tipi   aylik_taksit    satis_fiyati   pesinat_bilgisi    toplam_fiyat  \n",
       "0     Diesel   ₹9,036/month   ₹ 4,06,199.00  Zero downpayment   ₹ 4,35,199.00  \n",
       "1     Petrol  ₹25,499/month  ₹ 11,46,299.00  Zero downpayment  ₹ 11,71,299.00  \n",
       "2     Diesel  ₹13,376/month   ₹ 6,01,299.00  Zero downpayment   ₹ 6,33,299.00  \n",
       "3     Petrol   ₹6,371/month   ₹ 2,86,399.00  Zero downpayment   ₹ 3,02,399.00  \n",
       "4     Diesel  ₹17,847/month   ₹ 8,02,299.00  Zero downpayment   ₹ 8,45,299.00  "
      ]
     },
     "execution_count": 85,
     "metadata": {},
     "output_type": "execute_result"
    }
   ],
   "source": [
    "df.head()"
   ]
  },
  {
   "cell_type": "markdown",
   "metadata": {},
   "source": [
    "Bakıldığında öncelikli olarak direkt **integer** veri tipine çevirilebilecek olanlara bakalım.\n",
    "*Kampanya*, *km*, *aylık taksit*, *satış fiyatı* ve *toplam fiyat* özelliklerinin içerisindeki string değerleri kaldırıp integer değerlere çevirebiliriz."
   ]
  },
  {
   "cell_type": "code",
   "execution_count": 86,
   "metadata": {},
   "outputs": [],
   "source": [
    "def clean_column(value, remove_items=None):\n",
    "    if pd.isna(value):\n",
    "        return None\n",
    "    try:\n",
    "        value = str(value)  # Veriyi stringe çevir\n",
    "        if remove_items:\n",
    "            for item in remove_items:  # Belirtilen karakterleri kaldır\n",
    "                value = value.replace(item, '')\n",
    "        value = value.replace(',', '')  # Virgülleri kaldır\n",
    "        value = value.strip()  # Kenar boşluklarını temizle\n",
    "        return float(value)  # Sayıya çevir\n",
    "    except:\n",
    "        return None \n",
    "\n",
    "df['aylik_taksit'] = df['aylik_taksit'].apply(clean_column, remove_items=['₹', '/month'])\n",
    "df['km'] = df['km'].apply(clean_column, remove_items=['km'])\n",
    "df['satis_fiyati'] = df['satis_fiyati'].apply(clean_column, remove_items=['₹'])\n",
    "df['toplam_fiyat'] = df['toplam_fiyat'].apply(clean_column, remove_items=['₹'])\n",
    "df['kampanya']= df['kampanya'].apply(clean_column, remove_items=['₹','OFF'])"
   ]
  },
  {
   "cell_type": "markdown",
   "metadata": {},
   "source": [
    "Sonucu kontrol edelim."
   ]
  },
  {
   "cell_type": "code",
   "execution_count": 87,
   "metadata": {},
   "outputs": [
    {
     "data": {
      "text/html": [
       "<div>\n",
       "<style scoped>\n",
       "    .dataframe tbody tr th:only-of-type {\n",
       "        vertical-align: middle;\n",
       "    }\n",
       "\n",
       "    .dataframe tbody tr th {\n",
       "        vertical-align: top;\n",
       "    }\n",
       "\n",
       "    .dataframe thead th {\n",
       "        text-align: right;\n",
       "    }\n",
       "</style>\n",
       "<table border=\"1\" class=\"dataframe\">\n",
       "  <thead>\n",
       "    <tr style=\"text-align: right;\">\n",
       "      <th></th>\n",
       "      <th>kampanya</th>\n",
       "      <th>araba_adi</th>\n",
       "      <th>vites_tipi</th>\n",
       "      <th>km</th>\n",
       "      <th>sahiplik</th>\n",
       "      <th>yakit_tipi</th>\n",
       "      <th>aylik_taksit</th>\n",
       "      <th>satis_fiyati</th>\n",
       "      <th>pesinat_bilgisi</th>\n",
       "      <th>toplam_fiyat</th>\n",
       "    </tr>\n",
       "  </thead>\n",
       "  <tbody>\n",
       "    <tr>\n",
       "      <th>0</th>\n",
       "      <td>29000.0</td>\n",
       "      <td>2015 Maruti Swift</td>\n",
       "      <td>Manual</td>\n",
       "      <td>37925.0</td>\n",
       "      <td>1st Owner</td>\n",
       "      <td>Diesel</td>\n",
       "      <td>9036.0</td>\n",
       "      <td>406199.0</td>\n",
       "      <td>Zero downpayment</td>\n",
       "      <td>435199.0</td>\n",
       "    </tr>\n",
       "    <tr>\n",
       "      <th>1</th>\n",
       "      <td>25000.0</td>\n",
       "      <td>2020 KIA SELTOS</td>\n",
       "      <td>Manual</td>\n",
       "      <td>5822.0</td>\n",
       "      <td>2nd Owner</td>\n",
       "      <td>Petrol</td>\n",
       "      <td>25499.0</td>\n",
       "      <td>1146299.0</td>\n",
       "      <td>Zero downpayment</td>\n",
       "      <td>1171299.0</td>\n",
       "    </tr>\n",
       "    <tr>\n",
       "      <th>2</th>\n",
       "      <td>32000.0</td>\n",
       "      <td>2015 Maruti S Cross</td>\n",
       "      <td>Manual</td>\n",
       "      <td>95369.0</td>\n",
       "      <td>1st Owner</td>\n",
       "      <td>Diesel</td>\n",
       "      <td>13376.0</td>\n",
       "      <td>601299.0</td>\n",
       "      <td>Zero downpayment</td>\n",
       "      <td>633299.0</td>\n",
       "    </tr>\n",
       "    <tr>\n",
       "      <th>3</th>\n",
       "      <td>16000.0</td>\n",
       "      <td>2018 Renault Kwid</td>\n",
       "      <td>Manual</td>\n",
       "      <td>33167.0</td>\n",
       "      <td>2nd Owner</td>\n",
       "      <td>Petrol</td>\n",
       "      <td>6371.0</td>\n",
       "      <td>286399.0</td>\n",
       "      <td>Zero downpayment</td>\n",
       "      <td>302399.0</td>\n",
       "    </tr>\n",
       "    <tr>\n",
       "      <th>4</th>\n",
       "      <td>43000.0</td>\n",
       "      <td>2017 Hyundai Creta</td>\n",
       "      <td>Manual</td>\n",
       "      <td>19885.0</td>\n",
       "      <td>1st Owner</td>\n",
       "      <td>Diesel</td>\n",
       "      <td>17847.0</td>\n",
       "      <td>802299.0</td>\n",
       "      <td>Zero downpayment</td>\n",
       "      <td>845299.0</td>\n",
       "    </tr>\n",
       "  </tbody>\n",
       "</table>\n",
       "</div>"
      ],
      "text/plain": [
       "   kampanya            araba_adi vites_tipi       km   sahiplik yakit_tipi  \\\n",
       "0   29000.0    2015 Maruti Swift     Manual  37925.0  1st Owner     Diesel   \n",
       "1   25000.0      2020 KIA SELTOS     Manual   5822.0  2nd Owner     Petrol   \n",
       "2   32000.0  2015 Maruti S Cross     Manual  95369.0  1st Owner     Diesel   \n",
       "3   16000.0    2018 Renault Kwid     Manual  33167.0  2nd Owner     Petrol   \n",
       "4   43000.0   2017 Hyundai Creta     Manual  19885.0  1st Owner     Diesel   \n",
       "\n",
       "   aylik_taksit  satis_fiyati   pesinat_bilgisi  toplam_fiyat  \n",
       "0        9036.0      406199.0  Zero downpayment      435199.0  \n",
       "1       25499.0     1146299.0  Zero downpayment     1171299.0  \n",
       "2       13376.0      601299.0  Zero downpayment      633299.0  \n",
       "3        6371.0      286399.0  Zero downpayment      302399.0  \n",
       "4       17847.0      802299.0  Zero downpayment      845299.0  "
      ]
     },
     "execution_count": 87,
     "metadata": {},
     "output_type": "execute_result"
    }
   ],
   "source": [
    "df.head()"
   ]
  },
  {
   "cell_type": "markdown",
   "metadata": {},
   "source": [
    "Gayet güzel, hatasız gözüküyor."
   ]
  },
  {
   "cell_type": "markdown",
   "metadata": {},
   "source": [
    "Şimdi ise string değerlerden direkt **integer** değerlere çeviremeyeceğimiz sütunlara bir göz atalım. Kaç tane **benzersiz (unique)** özellikleri varmış?"
   ]
  },
  {
   "cell_type": "code",
   "execution_count": 88,
   "metadata": {},
   "outputs": [
    {
     "data": {
      "text/plain": [
       "(array(['Manual', 'Automatic'], dtype=object),\n",
       " array(['Diesel', 'Petrol', 'Petrol + CNG'], dtype=object),\n",
       " array(['1st Owner', '2nd Owner', '4th Owner', '3rd Owner'], dtype=object),\n",
       " array(['Zero downpayment'], dtype=object))"
      ]
     },
     "execution_count": 88,
     "metadata": {},
     "output_type": "execute_result"
    }
   ],
   "source": [
    "df['vites_tipi'].unique() , df['yakit_tipi'].unique() , df['sahiplik'].unique() , df['pesinat_bilgisi'].unique()"
   ]
  },
  {
   "cell_type": "markdown",
   "metadata": {},
   "source": [
    "Bu 4 özelliğin **unique** değerleri çok az sayıda olduğundan bu iyi bir şey veri karmaşıklığını önler.\n",
    "Ben bu özelliklerden peşinat bilgisi, vites ve yakıt tipi özelliklerini *pandas*'ın **get_dummies()** metodunu kullanarak ***true/false*** formunda yazmak istiyorum.\n",
    "Sahiplik özelliğini ise *sklearn* kütüphanesinden **LabelEncoder()** metodunu kullanarak her bir **unique** değere sayısal veri atamak istiyorum."
   ]
  },
  {
   "cell_type": "code",
   "execution_count": 89,
   "metadata": {},
   "outputs": [],
   "source": [
    "df['vites_tipi'] = df['vites_tipi'].str.lower().str.strip()\n",
    "df['yakit_tipi'] = df['yakit_tipi'].str.lower().str.strip()\n",
    "df['sahiplik'] = df['sahiplik'].str.lower().str.strip()\n",
    "df['sahiplik'] = df['pesinat_bilgisi'].str.lower().str.strip()\n",
    "\n",
    "le = LabelEncoder()\n",
    "df['sahiplik'] = le.fit_transform(df['sahiplik'])\n",
    "\n",
    "df = pd.get_dummies(df, columns=['vites_tipi', 'yakit_tipi','pesinat_bilgisi'])\n"
   ]
  },
  {
   "cell_type": "code",
   "execution_count": 90,
   "metadata": {},
   "outputs": [
    {
     "data": {
      "text/html": [
       "<div>\n",
       "<style scoped>\n",
       "    .dataframe tbody tr th:only-of-type {\n",
       "        vertical-align: middle;\n",
       "    }\n",
       "\n",
       "    .dataframe tbody tr th {\n",
       "        vertical-align: top;\n",
       "    }\n",
       "\n",
       "    .dataframe thead th {\n",
       "        text-align: right;\n",
       "    }\n",
       "</style>\n",
       "<table border=\"1\" class=\"dataframe\">\n",
       "  <thead>\n",
       "    <tr style=\"text-align: right;\">\n",
       "      <th></th>\n",
       "      <th>kampanya</th>\n",
       "      <th>araba_adi</th>\n",
       "      <th>km</th>\n",
       "      <th>sahiplik</th>\n",
       "      <th>aylik_taksit</th>\n",
       "      <th>satis_fiyati</th>\n",
       "      <th>toplam_fiyat</th>\n",
       "      <th>vites_tipi_automatic</th>\n",
       "      <th>vites_tipi_manual</th>\n",
       "      <th>yakit_tipi_diesel</th>\n",
       "      <th>yakit_tipi_petrol</th>\n",
       "      <th>yakit_tipi_petrol + cng</th>\n",
       "      <th>pesinat_bilgisi_Zero downpayment</th>\n",
       "    </tr>\n",
       "  </thead>\n",
       "  <tbody>\n",
       "    <tr>\n",
       "      <th>0</th>\n",
       "      <td>29000.0</td>\n",
       "      <td>2015 Maruti Swift</td>\n",
       "      <td>37925.0</td>\n",
       "      <td>0</td>\n",
       "      <td>9036.0</td>\n",
       "      <td>406199.0</td>\n",
       "      <td>435199.0</td>\n",
       "      <td>False</td>\n",
       "      <td>True</td>\n",
       "      <td>True</td>\n",
       "      <td>False</td>\n",
       "      <td>False</td>\n",
       "      <td>True</td>\n",
       "    </tr>\n",
       "    <tr>\n",
       "      <th>1</th>\n",
       "      <td>25000.0</td>\n",
       "      <td>2020 KIA SELTOS</td>\n",
       "      <td>5822.0</td>\n",
       "      <td>0</td>\n",
       "      <td>25499.0</td>\n",
       "      <td>1146299.0</td>\n",
       "      <td>1171299.0</td>\n",
       "      <td>False</td>\n",
       "      <td>True</td>\n",
       "      <td>False</td>\n",
       "      <td>True</td>\n",
       "      <td>False</td>\n",
       "      <td>True</td>\n",
       "    </tr>\n",
       "    <tr>\n",
       "      <th>2</th>\n",
       "      <td>32000.0</td>\n",
       "      <td>2015 Maruti S Cross</td>\n",
       "      <td>95369.0</td>\n",
       "      <td>0</td>\n",
       "      <td>13376.0</td>\n",
       "      <td>601299.0</td>\n",
       "      <td>633299.0</td>\n",
       "      <td>False</td>\n",
       "      <td>True</td>\n",
       "      <td>True</td>\n",
       "      <td>False</td>\n",
       "      <td>False</td>\n",
       "      <td>True</td>\n",
       "    </tr>\n",
       "    <tr>\n",
       "      <th>3</th>\n",
       "      <td>16000.0</td>\n",
       "      <td>2018 Renault Kwid</td>\n",
       "      <td>33167.0</td>\n",
       "      <td>0</td>\n",
       "      <td>6371.0</td>\n",
       "      <td>286399.0</td>\n",
       "      <td>302399.0</td>\n",
       "      <td>False</td>\n",
       "      <td>True</td>\n",
       "      <td>False</td>\n",
       "      <td>True</td>\n",
       "      <td>False</td>\n",
       "      <td>True</td>\n",
       "    </tr>\n",
       "    <tr>\n",
       "      <th>4</th>\n",
       "      <td>43000.0</td>\n",
       "      <td>2017 Hyundai Creta</td>\n",
       "      <td>19885.0</td>\n",
       "      <td>0</td>\n",
       "      <td>17847.0</td>\n",
       "      <td>802299.0</td>\n",
       "      <td>845299.0</td>\n",
       "      <td>False</td>\n",
       "      <td>True</td>\n",
       "      <td>True</td>\n",
       "      <td>False</td>\n",
       "      <td>False</td>\n",
       "      <td>True</td>\n",
       "    </tr>\n",
       "  </tbody>\n",
       "</table>\n",
       "</div>"
      ],
      "text/plain": [
       "   kampanya            araba_adi       km  sahiplik  aylik_taksit  \\\n",
       "0   29000.0    2015 Maruti Swift  37925.0         0        9036.0   \n",
       "1   25000.0      2020 KIA SELTOS   5822.0         0       25499.0   \n",
       "2   32000.0  2015 Maruti S Cross  95369.0         0       13376.0   \n",
       "3   16000.0    2018 Renault Kwid  33167.0         0        6371.0   \n",
       "4   43000.0   2017 Hyundai Creta  19885.0         0       17847.0   \n",
       "\n",
       "   satis_fiyati  toplam_fiyat  vites_tipi_automatic  vites_tipi_manual  \\\n",
       "0      406199.0      435199.0                 False               True   \n",
       "1     1146299.0     1171299.0                 False               True   \n",
       "2      601299.0      633299.0                 False               True   \n",
       "3      286399.0      302399.0                 False               True   \n",
       "4      802299.0      845299.0                 False               True   \n",
       "\n",
       "   yakit_tipi_diesel  yakit_tipi_petrol  yakit_tipi_petrol + cng  \\\n",
       "0               True              False                    False   \n",
       "1              False               True                    False   \n",
       "2               True              False                    False   \n",
       "3              False               True                    False   \n",
       "4               True              False                    False   \n",
       "\n",
       "   pesinat_bilgisi_Zero downpayment  \n",
       "0                              True  \n",
       "1                              True  \n",
       "2                              True  \n",
       "3                              True  \n",
       "4                              True  "
      ]
     },
     "execution_count": 90,
     "metadata": {},
     "output_type": "execute_result"
    }
   ],
   "source": [
    "df.head()"
   ]
  },
  {
   "cell_type": "markdown",
   "metadata": {},
   "source": [
    "Tam istediğimiz gibi oldu.\n",
    "Sahiplik özelliğini sırasıyla 0,1,2,3 değerleri ile değiştirdi.\n",
    "Vites ,yakıt tiplerini ve peşinat bilgisini bulunduğu satırda hangi özelliği var ise onu **True** diğer özellikleri **False** yaparak değiştirdi."
   ]
  },
  {
   "cell_type": "markdown",
   "metadata": {},
   "source": [
    "Şimdi de araba adı sütununa bakalım."
   ]
  },
  {
   "cell_type": "code",
   "execution_count": 91,
   "metadata": {},
   "outputs": [
    {
     "data": {
      "text/plain": [
       "(233,\n",
       " array(['2015 Maruti Swift', '2020 KIA SELTOS', '2015 Maruti S Cross',\n",
       "        '2018 Renault Kwid', '2017 Hyundai Creta', '2019 Maruti Swift',\n",
       "        '2014 Hyundai Elite i20', '2019 Maruti Baleno',\n",
       "        '2020 Maruti New  Wagon-R', '2015 BMW 3 Series',\n",
       "        '2015 Maruti Ertiga', '2016 Maruti Swift Dzire',\n",
       "        '2017 Maruti Ertiga', '2013 Toyota Innova', '2015 Hyundai Creta',\n",
       "        '2013 Toyota Fortuner', '2015 Hyundai Elite i20',\n",
       "        '2015 Maruti Baleno', '2015 Audi Q3', '2013 Honda Amaze',\n",
       "        '2014 Toyota Etios', '2016 Maruti Vitara Brezza',\n",
       "        '2013 Maruti Swift Dzire', '2021 Hyundai VENUE',\n",
       "        '2017 Maruti Ciaz', '2018 Mahindra Thar', '2016 Maruti S Cross',\n",
       "        '2016 Mercedes Benz E Class', '2015 Toyota Fortuner',\n",
       "        '2018 Hyundai Tucson New', '2014 Ford Ecosport',\n",
       "        '2014 Volkswagen Polo', '2018 Ford Ecosport',\n",
       "        '2018 Toyota Fortuner', '2015 Maruti Swift Dzire',\n",
       "        '2016 Hyundai Elite i20', '2015 Ford Ecosport',\n",
       "        '2018 Maruti Vitara Brezza', '2014 Maruti Ritz',\n",
       "        '2018 Maruti Swift', '2014 Toyota Innova', '2019 Hyundai VENUE',\n",
       "        '2015 Toyota Etios', '2016 Ford Ecosport',\n",
       "        '2013 Mercedes Benz E Class', '2017 Maruti Swift',\n",
       "        '2018 Honda City', '2016 Hyundai Grand i10', '2016 Maruti Baleno',\n",
       "        '2017 Hyundai Elite i20', '2016 Maruti Ciaz', '2016 Hyundai Creta',\n",
       "        '2015 Hyundai Grand i10', '2017 Maruti S Cross',\n",
       "        '2017 Maruti Baleno', '2012 Maruti Swift',\n",
       "        '2018 Maruti Wagon R 1.0', '2018 Maruti Dzire',\n",
       "        '2017 Ford Ecosport', '2014 Honda Brio', '2017 Hyundai Grand i10',\n",
       "        '2017 Maruti Vitara Brezza', '2013 Maruti Swift',\n",
       "        '2019 Maruti Vitara Brezza', '2016 Honda Jazz',\n",
       "        '2016 Maruti Swift', '2019 Renault Kwid', '2019 Maruti Alto 800',\n",
       "        '2019 Maruti Alto', '2020 Renault Kwid', '2016 Maruti Alto 800',\n",
       "        '2014 Maruti Swift Dzire', '2014 Maruti Swift', '2013 Hyundai i20',\n",
       "        '2014 Hyundai Grand i10', '2020 Maruti S PRESSO',\n",
       "        '2017 Maruti Alto 800', '2012 Maruti Swift Dzire',\n",
       "        '2016 Maruti Celerio', '2017 Maruti Alto K10', '2020 Maruti Alto',\n",
       "        '2015 Maruti Alto K10', '2015 Maruti Alto 800',\n",
       "        '2019 Maruti Alto K10', '2012 Maruti Alto K10', '2019 Maruti Eeco',\n",
       "        '2018 Maruti Alto 800', '2011 Hyundai i20', '2011 Hyundai i10',\n",
       "        '2009 Maruti Wagon R', '2009 Maruti Alto', '2013 Hyundai Eon',\n",
       "        '2014 Ssangyong Rexton', '2016 Mahindra Scorpio',\n",
       "        '2015 Ford New Figo', '2015 Hyundai Xcent',\n",
       "        '2016 Volkswagen Vento', '2011 Audi A4', '2020 Hyundai Verna',\n",
       "        '2010 Honda City', '2018 Maruti S Cross', '2013 Volkswagen Polo',\n",
       "        '2018 Hyundai Elite i20', '2017 Ford New Figo',\n",
       "        '2017 Maruti Dzire', '2015 BMW 5 Series',\n",
       "        '2017 Toyota Innova Crysta', '2013 Maruti Ertiga',\n",
       "        '2015 Honda City', '2017 Maruti IGNIS', '2020 Maruti Swift',\n",
       "        '2019 KIA SELTOS', '2018 Ford Figo Aspire',\n",
       "        '2016 Ford Figo Aspire', '2016 Toyota Corolla Altis',\n",
       "        '2017 Maruti Wagon R 1.0', '2018 Maruti Eeco', '2020 Honda City',\n",
       "        '2015 Maruti Wagon R 1.0', '2017 Renault Kwid',\n",
       "        '2020 Maruti Baleno', '2012 Toyota Etios Liva', '2016 Honda Amaze',\n",
       "        '2014 Hyundai Eon', '2017 Mahindra XUV500',\n",
       "        '2014 Toyota Etios Liva', '2012 Hyundai i10',\n",
       "        '2019 Hyundai NEW SANTRO', '2015 Hyundai Eon', '2013 Maruti Ritz',\n",
       "        '2014 Maruti Wagon R 1.0', '2018 Maruti Alto K10',\n",
       "        '2018 Renault Duster', '2015 Honda Amaze', '2014 Maruti Celerio',\n",
       "        '2017 BMW X1', '2019 Maruti Dzire', '2017 Honda BR-V',\n",
       "        '2012 Honda City', '2013 Hyundai Verna', '2012 Maruti Ertiga',\n",
       "        '2017 Honda City', '2015 Toyota Corolla Altis',\n",
       "        '2018 Renault Captur', '2019 Maruti Ciaz', '2013 Ford Ecosport',\n",
       "        '2010 Hyundai i10', '2016 Mahindra TUV300', '2018 Maruti Ciaz',\n",
       "        '2016 Hyundai Verna', '2014 Hyundai i20', '2018 Datsun Redi Go',\n",
       "        '2014 Honda City', '2019 Mahindra XUV500', '2014 Hyundai Xcent',\n",
       "        '2011 Maruti Swift', '2017 Hyundai Eon', '2014 Honda Amaze',\n",
       "        '2012 Maruti Alto 800', '2017 Hyundai i20 Active',\n",
       "        '2018 Maruti Celerio X', '2014 Hyundai i10', '2018 Maruti IGNIS',\n",
       "        '2016 Maruti Wagon R 1.0', '2018 Maruti Baleno',\n",
       "        '2013 Hyundai Grand i10', '2013 Maruti Alto 800',\n",
       "        '2013 Maruti Wagon R 1.0', '2018 Hyundai Eon',\n",
       "        '2018 Hyundai Grand i10', '2021 Maruti Alto',\n",
       "        '2019 Hyundai Grand i10', '2014 Maruti Alto 800',\n",
       "        '2019 Jeep Compass', '2012 Toyota Innova', '2019 Honda City',\n",
       "        '2014 Maruti Wagon R Stingray', '2018 Hyundai Verna',\n",
       "        '2011 Honda City', '2015 Hyundai i10', '2016 Mahindra Kuv100',\n",
       "        '2019 Hyundai Creta', '2013 Hyundai Santro Xing',\n",
       "        '2020 Hyundai VENUE', '2017 Maruti Swift Dzire',\n",
       "        '2016 Toyota Innova Crysta', '2018 Jeep Compass',\n",
       "        '2018 Ford New Figo', '2019 Volkswagen Polo',\n",
       "        '2020 Volkswagen Vento', '2020 Mahindra MARAZZO',\n",
       "        '2012 Hyundai i20', '2020 Hyundai Creta', '2018 Audi A3',\n",
       "        '2019 Maruti New  Wagon-R', '2017 Maruti Celerio',\n",
       "        '2020 Skoda KAROQ', '2018 Hyundai Xcent',\n",
       "        '2020 Hyundai GRAND I10 NIOS', '2018 Hyundai Creta',\n",
       "        '2019 Maruti XL6', '2019 Ford Ecosport', '2020 Ford Ecosport',\n",
       "        '2018 Mahindra TUV300', '2018 Maruti Ertiga', '2015 Honda Brio',\n",
       "        '2018 Honda Jazz', '2017 Maruti Eeco', '2018 Maruti Celerio',\n",
       "        '2013 Honda Brio', '2021 Maruti Baleno', '2020 Maruti Celerio',\n",
       "        '2018 Honda Brio', '2020 Maruti IGNIS', '2020 Hyundai Grand i10',\n",
       "        '2021 Maruti IGNIS', '2020 Maruti Eeco', '2016 Renault Kwid',\n",
       "        '2020 Hyundai Elite i20', '2019 Renault TRIBER', '2018 Honda WR-V',\n",
       "        '2019 Maruti Celerio', '2017 Ford Figo Aspire',\n",
       "        '2019 Mahindra XUV 3OO', '2020 Hyundai AURA',\n",
       "        '2012 Toyota Fortuner', '2019 Honda Civic',\n",
       "        '2019 Hyundai GRAND I10 NIOS', '2020 MG HECTOR', '2020 Maruti XL6',\n",
       "        '2019 Maruti S PRESSO', '2016 Hyundai i20 Active',\n",
       "        '2017 Honda Brio'], dtype=object))"
      ]
     },
     "execution_count": 91,
     "metadata": {},
     "output_type": "execute_result"
    }
   ],
   "source": [
    "df['araba_adi'].nunique() , df['araba_adi'].unique()"
   ]
  },
  {
   "cell_type": "markdown",
   "metadata": {},
   "source": [
    "Tamı tamına **233** tane farklı özellik var. Bu biraz uğraştıracak tek seferde halletmeyelim ikiye bölerek yapalım."
   ]
  },
  {
   "cell_type": "markdown",
   "metadata": {},
   "source": [
    "**Araba adı** sütununu *üretim yılı* ve *marka-model* olacak şekilde ikiye ayıralım."
   ]
  },
  {
   "cell_type": "code",
   "execution_count": 92,
   "metadata": {},
   "outputs": [],
   "source": [
    "df['uretim_yili'] = df['araba_adi'].str.extract(r'(\\d{4})')  # Üretim yılına dair 4 rakamı alıyoruz\n",
    "df['marka_model'] = df['araba_adi'].str.replace(r'^\\d{4} ', '', regex=True)  # Yılı sildikten sonra sadece marka ve model"
   ]
  },
  {
   "cell_type": "code",
   "execution_count": 93,
   "metadata": {},
   "outputs": [
    {
     "data": {
      "text/html": [
       "<div>\n",
       "<style scoped>\n",
       "    .dataframe tbody tr th:only-of-type {\n",
       "        vertical-align: middle;\n",
       "    }\n",
       "\n",
       "    .dataframe tbody tr th {\n",
       "        vertical-align: top;\n",
       "    }\n",
       "\n",
       "    .dataframe thead th {\n",
       "        text-align: right;\n",
       "    }\n",
       "</style>\n",
       "<table border=\"1\" class=\"dataframe\">\n",
       "  <thead>\n",
       "    <tr style=\"text-align: right;\">\n",
       "      <th></th>\n",
       "      <th>kampanya</th>\n",
       "      <th>araba_adi</th>\n",
       "      <th>km</th>\n",
       "      <th>sahiplik</th>\n",
       "      <th>aylik_taksit</th>\n",
       "      <th>satis_fiyati</th>\n",
       "      <th>toplam_fiyat</th>\n",
       "      <th>vites_tipi_automatic</th>\n",
       "      <th>vites_tipi_manual</th>\n",
       "      <th>yakit_tipi_diesel</th>\n",
       "      <th>yakit_tipi_petrol</th>\n",
       "      <th>yakit_tipi_petrol + cng</th>\n",
       "      <th>pesinat_bilgisi_Zero downpayment</th>\n",
       "      <th>uretim_yili</th>\n",
       "      <th>marka_model</th>\n",
       "    </tr>\n",
       "  </thead>\n",
       "  <tbody>\n",
       "    <tr>\n",
       "      <th>0</th>\n",
       "      <td>29000.0</td>\n",
       "      <td>2015 Maruti Swift</td>\n",
       "      <td>37925.0</td>\n",
       "      <td>0</td>\n",
       "      <td>9036.0</td>\n",
       "      <td>406199.0</td>\n",
       "      <td>435199.0</td>\n",
       "      <td>False</td>\n",
       "      <td>True</td>\n",
       "      <td>True</td>\n",
       "      <td>False</td>\n",
       "      <td>False</td>\n",
       "      <td>True</td>\n",
       "      <td>2015</td>\n",
       "      <td>Maruti Swift</td>\n",
       "    </tr>\n",
       "    <tr>\n",
       "      <th>1</th>\n",
       "      <td>25000.0</td>\n",
       "      <td>2020 KIA SELTOS</td>\n",
       "      <td>5822.0</td>\n",
       "      <td>0</td>\n",
       "      <td>25499.0</td>\n",
       "      <td>1146299.0</td>\n",
       "      <td>1171299.0</td>\n",
       "      <td>False</td>\n",
       "      <td>True</td>\n",
       "      <td>False</td>\n",
       "      <td>True</td>\n",
       "      <td>False</td>\n",
       "      <td>True</td>\n",
       "      <td>2020</td>\n",
       "      <td>KIA SELTOS</td>\n",
       "    </tr>\n",
       "    <tr>\n",
       "      <th>2</th>\n",
       "      <td>32000.0</td>\n",
       "      <td>2015 Maruti S Cross</td>\n",
       "      <td>95369.0</td>\n",
       "      <td>0</td>\n",
       "      <td>13376.0</td>\n",
       "      <td>601299.0</td>\n",
       "      <td>633299.0</td>\n",
       "      <td>False</td>\n",
       "      <td>True</td>\n",
       "      <td>True</td>\n",
       "      <td>False</td>\n",
       "      <td>False</td>\n",
       "      <td>True</td>\n",
       "      <td>2015</td>\n",
       "      <td>Maruti S Cross</td>\n",
       "    </tr>\n",
       "    <tr>\n",
       "      <th>3</th>\n",
       "      <td>16000.0</td>\n",
       "      <td>2018 Renault Kwid</td>\n",
       "      <td>33167.0</td>\n",
       "      <td>0</td>\n",
       "      <td>6371.0</td>\n",
       "      <td>286399.0</td>\n",
       "      <td>302399.0</td>\n",
       "      <td>False</td>\n",
       "      <td>True</td>\n",
       "      <td>False</td>\n",
       "      <td>True</td>\n",
       "      <td>False</td>\n",
       "      <td>True</td>\n",
       "      <td>2018</td>\n",
       "      <td>Renault Kwid</td>\n",
       "    </tr>\n",
       "    <tr>\n",
       "      <th>4</th>\n",
       "      <td>43000.0</td>\n",
       "      <td>2017 Hyundai Creta</td>\n",
       "      <td>19885.0</td>\n",
       "      <td>0</td>\n",
       "      <td>17847.0</td>\n",
       "      <td>802299.0</td>\n",
       "      <td>845299.0</td>\n",
       "      <td>False</td>\n",
       "      <td>True</td>\n",
       "      <td>True</td>\n",
       "      <td>False</td>\n",
       "      <td>False</td>\n",
       "      <td>True</td>\n",
       "      <td>2017</td>\n",
       "      <td>Hyundai Creta</td>\n",
       "    </tr>\n",
       "  </tbody>\n",
       "</table>\n",
       "</div>"
      ],
      "text/plain": [
       "   kampanya            araba_adi       km  sahiplik  aylik_taksit  \\\n",
       "0   29000.0    2015 Maruti Swift  37925.0         0        9036.0   \n",
       "1   25000.0      2020 KIA SELTOS   5822.0         0       25499.0   \n",
       "2   32000.0  2015 Maruti S Cross  95369.0         0       13376.0   \n",
       "3   16000.0    2018 Renault Kwid  33167.0         0        6371.0   \n",
       "4   43000.0   2017 Hyundai Creta  19885.0         0       17847.0   \n",
       "\n",
       "   satis_fiyati  toplam_fiyat  vites_tipi_automatic  vites_tipi_manual  \\\n",
       "0      406199.0      435199.0                 False               True   \n",
       "1     1146299.0     1171299.0                 False               True   \n",
       "2      601299.0      633299.0                 False               True   \n",
       "3      286399.0      302399.0                 False               True   \n",
       "4      802299.0      845299.0                 False               True   \n",
       "\n",
       "   yakit_tipi_diesel  yakit_tipi_petrol  yakit_tipi_petrol + cng  \\\n",
       "0               True              False                    False   \n",
       "1              False               True                    False   \n",
       "2               True              False                    False   \n",
       "3              False               True                    False   \n",
       "4               True              False                    False   \n",
       "\n",
       "   pesinat_bilgisi_Zero downpayment uretim_yili     marka_model  \n",
       "0                              True        2015    Maruti Swift  \n",
       "1                              True        2020      KIA SELTOS  \n",
       "2                              True        2015  Maruti S Cross  \n",
       "3                              True        2018    Renault Kwid  \n",
       "4                              True        2017   Hyundai Creta  "
      ]
     },
     "execution_count": 93,
     "metadata": {},
     "output_type": "execute_result"
    }
   ],
   "source": [
    "df.head()"
   ]
  },
  {
   "cell_type": "markdown",
   "metadata": {},
   "source": [
    "Marka-model sayısını unique değer sayısını kaça düşürmüşüz ona bakalım."
   ]
  },
  {
   "cell_type": "code",
   "execution_count": 94,
   "metadata": {},
   "outputs": [
    {
     "data": {
      "text/plain": [
       "79"
      ]
     },
     "execution_count": 94,
     "metadata": {},
     "output_type": "execute_result"
    }
   ],
   "source": [
    "df['marka_model'].nunique()"
   ]
  },
  {
   "cell_type": "markdown",
   "metadata": {},
   "source": [
    "79 gayet kabul edilebilir bir seviye oldu. **Label-encoding** işlemini buna da uygulayalım."
   ]
  },
  {
   "cell_type": "code",
   "execution_count": 95,
   "metadata": {},
   "outputs": [],
   "source": [
    "df['marka_model'] = le.fit_transform(df['marka_model'])"
   ]
  },
  {
   "cell_type": "code",
   "execution_count": 96,
   "metadata": {},
   "outputs": [
    {
     "data": {
      "text/html": [
       "<div>\n",
       "<style scoped>\n",
       "    .dataframe tbody tr th:only-of-type {\n",
       "        vertical-align: middle;\n",
       "    }\n",
       "\n",
       "    .dataframe tbody tr th {\n",
       "        vertical-align: top;\n",
       "    }\n",
       "\n",
       "    .dataframe thead th {\n",
       "        text-align: right;\n",
       "    }\n",
       "</style>\n",
       "<table border=\"1\" class=\"dataframe\">\n",
       "  <thead>\n",
       "    <tr style=\"text-align: right;\">\n",
       "      <th></th>\n",
       "      <th>kampanya</th>\n",
       "      <th>araba_adi</th>\n",
       "      <th>km</th>\n",
       "      <th>sahiplik</th>\n",
       "      <th>aylik_taksit</th>\n",
       "      <th>satis_fiyati</th>\n",
       "      <th>toplam_fiyat</th>\n",
       "      <th>vites_tipi_automatic</th>\n",
       "      <th>vites_tipi_manual</th>\n",
       "      <th>yakit_tipi_diesel</th>\n",
       "      <th>yakit_tipi_petrol</th>\n",
       "      <th>yakit_tipi_petrol + cng</th>\n",
       "      <th>pesinat_bilgisi_Zero downpayment</th>\n",
       "      <th>uretim_yili</th>\n",
       "      <th>marka_model</th>\n",
       "    </tr>\n",
       "  </thead>\n",
       "  <tbody>\n",
       "    <tr>\n",
       "      <th>0</th>\n",
       "      <td>29000.0</td>\n",
       "      <td>2015 Maruti Swift</td>\n",
       "      <td>37925.0</td>\n",
       "      <td>0</td>\n",
       "      <td>9036.0</td>\n",
       "      <td>406199.0</td>\n",
       "      <td>435199.0</td>\n",
       "      <td>False</td>\n",
       "      <td>True</td>\n",
       "      <td>True</td>\n",
       "      <td>False</td>\n",
       "      <td>False</td>\n",
       "      <td>True</td>\n",
       "      <td>2015</td>\n",
       "      <td>57</td>\n",
       "    </tr>\n",
       "    <tr>\n",
       "      <th>1</th>\n",
       "      <td>25000.0</td>\n",
       "      <td>2020 KIA SELTOS</td>\n",
       "      <td>5822.0</td>\n",
       "      <td>0</td>\n",
       "      <td>25499.0</td>\n",
       "      <td>1146299.0</td>\n",
       "      <td>1171299.0</td>\n",
       "      <td>False</td>\n",
       "      <td>True</td>\n",
       "      <td>False</td>\n",
       "      <td>True</td>\n",
       "      <td>False</td>\n",
       "      <td>True</td>\n",
       "      <td>2020</td>\n",
       "      <td>33</td>\n",
       "    </tr>\n",
       "    <tr>\n",
       "      <th>2</th>\n",
       "      <td>32000.0</td>\n",
       "      <td>2015 Maruti S Cross</td>\n",
       "      <td>95369.0</td>\n",
       "      <td>0</td>\n",
       "      <td>13376.0</td>\n",
       "      <td>601299.0</td>\n",
       "      <td>633299.0</td>\n",
       "      <td>False</td>\n",
       "      <td>True</td>\n",
       "      <td>True</td>\n",
       "      <td>False</td>\n",
       "      <td>False</td>\n",
       "      <td>True</td>\n",
       "      <td>2015</td>\n",
       "      <td>55</td>\n",
       "    </tr>\n",
       "    <tr>\n",
       "      <th>3</th>\n",
       "      <td>16000.0</td>\n",
       "      <td>2018 Renault Kwid</td>\n",
       "      <td>33167.0</td>\n",
       "      <td>0</td>\n",
       "      <td>6371.0</td>\n",
       "      <td>286399.0</td>\n",
       "      <td>302399.0</td>\n",
       "      <td>False</td>\n",
       "      <td>True</td>\n",
       "      <td>False</td>\n",
       "      <td>True</td>\n",
       "      <td>False</td>\n",
       "      <td>True</td>\n",
       "      <td>2018</td>\n",
       "      <td>67</td>\n",
       "    </tr>\n",
       "    <tr>\n",
       "      <th>4</th>\n",
       "      <td>43000.0</td>\n",
       "      <td>2017 Hyundai Creta</td>\n",
       "      <td>19885.0</td>\n",
       "      <td>0</td>\n",
       "      <td>17847.0</td>\n",
       "      <td>802299.0</td>\n",
       "      <td>845299.0</td>\n",
       "      <td>False</td>\n",
       "      <td>True</td>\n",
       "      <td>True</td>\n",
       "      <td>False</td>\n",
       "      <td>False</td>\n",
       "      <td>True</td>\n",
       "      <td>2017</td>\n",
       "      <td>18</td>\n",
       "    </tr>\n",
       "  </tbody>\n",
       "</table>\n",
       "</div>"
      ],
      "text/plain": [
       "   kampanya            araba_adi       km  sahiplik  aylik_taksit  \\\n",
       "0   29000.0    2015 Maruti Swift  37925.0         0        9036.0   \n",
       "1   25000.0      2020 KIA SELTOS   5822.0         0       25499.0   \n",
       "2   32000.0  2015 Maruti S Cross  95369.0         0       13376.0   \n",
       "3   16000.0    2018 Renault Kwid  33167.0         0        6371.0   \n",
       "4   43000.0   2017 Hyundai Creta  19885.0         0       17847.0   \n",
       "\n",
       "   satis_fiyati  toplam_fiyat  vites_tipi_automatic  vites_tipi_manual  \\\n",
       "0      406199.0      435199.0                 False               True   \n",
       "1     1146299.0     1171299.0                 False               True   \n",
       "2      601299.0      633299.0                 False               True   \n",
       "3      286399.0      302399.0                 False               True   \n",
       "4      802299.0      845299.0                 False               True   \n",
       "\n",
       "   yakit_tipi_diesel  yakit_tipi_petrol  yakit_tipi_petrol + cng  \\\n",
       "0               True              False                    False   \n",
       "1              False               True                    False   \n",
       "2               True              False                    False   \n",
       "3              False               True                    False   \n",
       "4               True              False                    False   \n",
       "\n",
       "   pesinat_bilgisi_Zero downpayment uretim_yili  marka_model  \n",
       "0                              True        2015           57  \n",
       "1                              True        2020           33  \n",
       "2                              True        2015           55  \n",
       "3                              True        2018           67  \n",
       "4                              True        2017           18  "
      ]
     },
     "execution_count": 96,
     "metadata": {},
     "output_type": "execute_result"
    }
   ],
   "source": [
    "df.head()"
   ]
  },
  {
   "cell_type": "markdown",
   "metadata": {},
   "source": [
    "Artık araba adı sütunu ile işimiz kalmadı, kaldırabiliriz."
   ]
  },
  {
   "cell_type": "code",
   "execution_count": 97,
   "metadata": {},
   "outputs": [],
   "source": [
    "df=df.drop(columns=['araba_adi'])"
   ]
  },
  {
   "cell_type": "markdown",
   "metadata": {},
   "source": [
    "Son hali bu şekilde..."
   ]
  },
  {
   "cell_type": "code",
   "execution_count": 98,
   "metadata": {},
   "outputs": [
    {
     "data": {
      "text/html": [
       "<div>\n",
       "<style scoped>\n",
       "    .dataframe tbody tr th:only-of-type {\n",
       "        vertical-align: middle;\n",
       "    }\n",
       "\n",
       "    .dataframe tbody tr th {\n",
       "        vertical-align: top;\n",
       "    }\n",
       "\n",
       "    .dataframe thead th {\n",
       "        text-align: right;\n",
       "    }\n",
       "</style>\n",
       "<table border=\"1\" class=\"dataframe\">\n",
       "  <thead>\n",
       "    <tr style=\"text-align: right;\">\n",
       "      <th></th>\n",
       "      <th>kampanya</th>\n",
       "      <th>km</th>\n",
       "      <th>sahiplik</th>\n",
       "      <th>aylik_taksit</th>\n",
       "      <th>satis_fiyati</th>\n",
       "      <th>toplam_fiyat</th>\n",
       "      <th>vites_tipi_automatic</th>\n",
       "      <th>vites_tipi_manual</th>\n",
       "      <th>yakit_tipi_diesel</th>\n",
       "      <th>yakit_tipi_petrol</th>\n",
       "      <th>yakit_tipi_petrol + cng</th>\n",
       "      <th>pesinat_bilgisi_Zero downpayment</th>\n",
       "      <th>uretim_yili</th>\n",
       "      <th>marka_model</th>\n",
       "    </tr>\n",
       "  </thead>\n",
       "  <tbody>\n",
       "    <tr>\n",
       "      <th>0</th>\n",
       "      <td>29000.0</td>\n",
       "      <td>37925.0</td>\n",
       "      <td>0</td>\n",
       "      <td>9036.0</td>\n",
       "      <td>406199.0</td>\n",
       "      <td>435199.0</td>\n",
       "      <td>False</td>\n",
       "      <td>True</td>\n",
       "      <td>True</td>\n",
       "      <td>False</td>\n",
       "      <td>False</td>\n",
       "      <td>True</td>\n",
       "      <td>2015</td>\n",
       "      <td>57</td>\n",
       "    </tr>\n",
       "    <tr>\n",
       "      <th>1</th>\n",
       "      <td>25000.0</td>\n",
       "      <td>5822.0</td>\n",
       "      <td>0</td>\n",
       "      <td>25499.0</td>\n",
       "      <td>1146299.0</td>\n",
       "      <td>1171299.0</td>\n",
       "      <td>False</td>\n",
       "      <td>True</td>\n",
       "      <td>False</td>\n",
       "      <td>True</td>\n",
       "      <td>False</td>\n",
       "      <td>True</td>\n",
       "      <td>2020</td>\n",
       "      <td>33</td>\n",
       "    </tr>\n",
       "    <tr>\n",
       "      <th>2</th>\n",
       "      <td>32000.0</td>\n",
       "      <td>95369.0</td>\n",
       "      <td>0</td>\n",
       "      <td>13376.0</td>\n",
       "      <td>601299.0</td>\n",
       "      <td>633299.0</td>\n",
       "      <td>False</td>\n",
       "      <td>True</td>\n",
       "      <td>True</td>\n",
       "      <td>False</td>\n",
       "      <td>False</td>\n",
       "      <td>True</td>\n",
       "      <td>2015</td>\n",
       "      <td>55</td>\n",
       "    </tr>\n",
       "    <tr>\n",
       "      <th>3</th>\n",
       "      <td>16000.0</td>\n",
       "      <td>33167.0</td>\n",
       "      <td>0</td>\n",
       "      <td>6371.0</td>\n",
       "      <td>286399.0</td>\n",
       "      <td>302399.0</td>\n",
       "      <td>False</td>\n",
       "      <td>True</td>\n",
       "      <td>False</td>\n",
       "      <td>True</td>\n",
       "      <td>False</td>\n",
       "      <td>True</td>\n",
       "      <td>2018</td>\n",
       "      <td>67</td>\n",
       "    </tr>\n",
       "    <tr>\n",
       "      <th>4</th>\n",
       "      <td>43000.0</td>\n",
       "      <td>19885.0</td>\n",
       "      <td>0</td>\n",
       "      <td>17847.0</td>\n",
       "      <td>802299.0</td>\n",
       "      <td>845299.0</td>\n",
       "      <td>False</td>\n",
       "      <td>True</td>\n",
       "      <td>True</td>\n",
       "      <td>False</td>\n",
       "      <td>False</td>\n",
       "      <td>True</td>\n",
       "      <td>2017</td>\n",
       "      <td>18</td>\n",
       "    </tr>\n",
       "  </tbody>\n",
       "</table>\n",
       "</div>"
      ],
      "text/plain": [
       "   kampanya       km  sahiplik  aylik_taksit  satis_fiyati  toplam_fiyat  \\\n",
       "0   29000.0  37925.0         0        9036.0      406199.0      435199.0   \n",
       "1   25000.0   5822.0         0       25499.0     1146299.0     1171299.0   \n",
       "2   32000.0  95369.0         0       13376.0      601299.0      633299.0   \n",
       "3   16000.0  33167.0         0        6371.0      286399.0      302399.0   \n",
       "4   43000.0  19885.0         0       17847.0      802299.0      845299.0   \n",
       "\n",
       "   vites_tipi_automatic  vites_tipi_manual  yakit_tipi_diesel  \\\n",
       "0                 False               True               True   \n",
       "1                 False               True              False   \n",
       "2                 False               True               True   \n",
       "3                 False               True              False   \n",
       "4                 False               True               True   \n",
       "\n",
       "   yakit_tipi_petrol  yakit_tipi_petrol + cng  \\\n",
       "0              False                    False   \n",
       "1               True                    False   \n",
       "2              False                    False   \n",
       "3               True                    False   \n",
       "4              False                    False   \n",
       "\n",
       "   pesinat_bilgisi_Zero downpayment uretim_yili  marka_model  \n",
       "0                              True        2015           57  \n",
       "1                              True        2020           33  \n",
       "2                              True        2015           55  \n",
       "3                              True        2018           67  \n",
       "4                              True        2017           18  "
      ]
     },
     "execution_count": 98,
     "metadata": {},
     "output_type": "execute_result"
    }
   ],
   "source": [
    "df.head()"
   ]
  },
  {
   "cell_type": "markdown",
   "metadata": {},
   "source": [
    "Araçların marka-model, üretim yılı, km, vites türü, yakıt türü ve sahiplik özelliklerine göre fiyat tahmini yapması için modellemek istiyorum. Bu yüzden aracın fiyatına etki etmeyen kampanya, peşinat, aylık taksit, satış fiyatı özelliklerini kaldırıyorum."
   ]
  },
  {
   "cell_type": "code",
   "execution_count": 99,
   "metadata": {},
   "outputs": [],
   "source": [
    "deleted_columns=['kampanya','aylik_taksit','satis_fiyati','pesinat_bilgisi_Zero downpayment']\n",
    "df=df.drop(columns=deleted_columns)"
   ]
  },
  {
   "cell_type": "code",
   "execution_count": 100,
   "metadata": {},
   "outputs": [
    {
     "data": {
      "text/html": [
       "<div>\n",
       "<style scoped>\n",
       "    .dataframe tbody tr th:only-of-type {\n",
       "        vertical-align: middle;\n",
       "    }\n",
       "\n",
       "    .dataframe tbody tr th {\n",
       "        vertical-align: top;\n",
       "    }\n",
       "\n",
       "    .dataframe thead th {\n",
       "        text-align: right;\n",
       "    }\n",
       "</style>\n",
       "<table border=\"1\" class=\"dataframe\">\n",
       "  <thead>\n",
       "    <tr style=\"text-align: right;\">\n",
       "      <th></th>\n",
       "      <th>km</th>\n",
       "      <th>sahiplik</th>\n",
       "      <th>toplam_fiyat</th>\n",
       "      <th>vites_tipi_automatic</th>\n",
       "      <th>vites_tipi_manual</th>\n",
       "      <th>yakit_tipi_diesel</th>\n",
       "      <th>yakit_tipi_petrol</th>\n",
       "      <th>yakit_tipi_petrol + cng</th>\n",
       "      <th>uretim_yili</th>\n",
       "      <th>marka_model</th>\n",
       "    </tr>\n",
       "  </thead>\n",
       "  <tbody>\n",
       "    <tr>\n",
       "      <th>0</th>\n",
       "      <td>37925.0</td>\n",
       "      <td>0</td>\n",
       "      <td>435199.0</td>\n",
       "      <td>False</td>\n",
       "      <td>True</td>\n",
       "      <td>True</td>\n",
       "      <td>False</td>\n",
       "      <td>False</td>\n",
       "      <td>2015</td>\n",
       "      <td>57</td>\n",
       "    </tr>\n",
       "    <tr>\n",
       "      <th>1</th>\n",
       "      <td>5822.0</td>\n",
       "      <td>0</td>\n",
       "      <td>1171299.0</td>\n",
       "      <td>False</td>\n",
       "      <td>True</td>\n",
       "      <td>False</td>\n",
       "      <td>True</td>\n",
       "      <td>False</td>\n",
       "      <td>2020</td>\n",
       "      <td>33</td>\n",
       "    </tr>\n",
       "    <tr>\n",
       "      <th>2</th>\n",
       "      <td>95369.0</td>\n",
       "      <td>0</td>\n",
       "      <td>633299.0</td>\n",
       "      <td>False</td>\n",
       "      <td>True</td>\n",
       "      <td>True</td>\n",
       "      <td>False</td>\n",
       "      <td>False</td>\n",
       "      <td>2015</td>\n",
       "      <td>55</td>\n",
       "    </tr>\n",
       "    <tr>\n",
       "      <th>3</th>\n",
       "      <td>33167.0</td>\n",
       "      <td>0</td>\n",
       "      <td>302399.0</td>\n",
       "      <td>False</td>\n",
       "      <td>True</td>\n",
       "      <td>False</td>\n",
       "      <td>True</td>\n",
       "      <td>False</td>\n",
       "      <td>2018</td>\n",
       "      <td>67</td>\n",
       "    </tr>\n",
       "    <tr>\n",
       "      <th>4</th>\n",
       "      <td>19885.0</td>\n",
       "      <td>0</td>\n",
       "      <td>845299.0</td>\n",
       "      <td>False</td>\n",
       "      <td>True</td>\n",
       "      <td>True</td>\n",
       "      <td>False</td>\n",
       "      <td>False</td>\n",
       "      <td>2017</td>\n",
       "      <td>18</td>\n",
       "    </tr>\n",
       "  </tbody>\n",
       "</table>\n",
       "</div>"
      ],
      "text/plain": [
       "        km  sahiplik  toplam_fiyat  vites_tipi_automatic  vites_tipi_manual  \\\n",
       "0  37925.0         0      435199.0                 False               True   \n",
       "1   5822.0         0     1171299.0                 False               True   \n",
       "2  95369.0         0      633299.0                 False               True   \n",
       "3  33167.0         0      302399.0                 False               True   \n",
       "4  19885.0         0      845299.0                 False               True   \n",
       "\n",
       "   yakit_tipi_diesel  yakit_tipi_petrol  yakit_tipi_petrol + cng uretim_yili  \\\n",
       "0               True              False                    False        2015   \n",
       "1              False               True                    False        2020   \n",
       "2               True              False                    False        2015   \n",
       "3              False               True                    False        2018   \n",
       "4               True              False                    False        2017   \n",
       "\n",
       "   marka_model  \n",
       "0           57  \n",
       "1           33  \n",
       "2           55  \n",
       "3           67  \n",
       "4           18  "
      ]
     },
     "execution_count": 100,
     "metadata": {},
     "output_type": "execute_result"
    }
   ],
   "source": [
    "df.head()"
   ]
  },
  {
   "cell_type": "markdown",
   "metadata": {},
   "source": [
    "Özellik veri tiplerini tekrar kontrol edelim."
   ]
  },
  {
   "cell_type": "code",
   "execution_count": 101,
   "metadata": {},
   "outputs": [
    {
     "name": "stdout",
     "output_type": "stream",
     "text": [
      "<class 'pandas.core.frame.DataFrame'>\n",
      "Index: 1047 entries, 0 to 1083\n",
      "Data columns (total 10 columns):\n",
      " #   Column                   Non-Null Count  Dtype  \n",
      "---  ------                   --------------  -----  \n",
      " 0   km                       1047 non-null   float64\n",
      " 1   sahiplik                 1047 non-null   int64  \n",
      " 2   toplam_fiyat             1047 non-null   float64\n",
      " 3   vites_tipi_automatic     1047 non-null   bool   \n",
      " 4   vites_tipi_manual        1047 non-null   bool   \n",
      " 5   yakit_tipi_diesel        1047 non-null   bool   \n",
      " 6   yakit_tipi_petrol        1047 non-null   bool   \n",
      " 7   yakit_tipi_petrol + cng  1047 non-null   bool   \n",
      " 8   uretim_yili              1047 non-null   object \n",
      " 9   marka_model              1047 non-null   int64  \n",
      "dtypes: bool(5), float64(2), int64(2), object(1)\n",
      "memory usage: 54.2+ KB\n"
     ]
    }
   ],
   "source": [
    "df.info()"
   ]
  },
  {
   "cell_type": "markdown",
   "metadata": {},
   "source": [
    "**Float** tipindeki verileri **integer** olarak çevirebiliriz çünkü virgüllü sayıları kullanmıyoruz grafiklerde sıkıntı çekmeyelim. Üretim yılı özelliğini de **int** olarak değiştirelim."
   ]
  },
  {
   "cell_type": "code",
   "execution_count": 102,
   "metadata": {},
   "outputs": [],
   "source": [
    "float_column = df.select_dtypes(include='float').columns\n",
    "df[float_column] = df[float_column].astype(int)\n",
    "\n",
    "object_column = df.select_dtypes(include='object').columns\n",
    "df[object_column] = df[object_column].astype(int)"
   ]
  },
  {
   "cell_type": "code",
   "execution_count": 103,
   "metadata": {},
   "outputs": [
    {
     "name": "stdout",
     "output_type": "stream",
     "text": [
      "<class 'pandas.core.frame.DataFrame'>\n",
      "Index: 1047 entries, 0 to 1083\n",
      "Data columns (total 10 columns):\n",
      " #   Column                   Non-Null Count  Dtype\n",
      "---  ------                   --------------  -----\n",
      " 0   km                       1047 non-null   int64\n",
      " 1   sahiplik                 1047 non-null   int64\n",
      " 2   toplam_fiyat             1047 non-null   int64\n",
      " 3   vites_tipi_automatic     1047 non-null   bool \n",
      " 4   vites_tipi_manual        1047 non-null   bool \n",
      " 5   yakit_tipi_diesel        1047 non-null   bool \n",
      " 6   yakit_tipi_petrol        1047 non-null   bool \n",
      " 7   yakit_tipi_petrol + cng  1047 non-null   bool \n",
      " 8   uretim_yili              1047 non-null   int64\n",
      " 9   marka_model              1047 non-null   int64\n",
      "dtypes: bool(5), int64(5)\n",
      "memory usage: 54.2 KB\n"
     ]
    }
   ],
   "source": [
    "df.info()"
   ]
  },
  {
   "cell_type": "markdown",
   "metadata": {},
   "source": [
    "Çok daha iyi oldu."
   ]
  },
  {
   "cell_type": "markdown",
   "metadata": {},
   "source": [
    "Toplam fiyat kolunun adını da fiyat olarak değiştirelim."
   ]
  },
  {
   "cell_type": "code",
   "execution_count": 104,
   "metadata": {},
   "outputs": [],
   "source": [
    "df.rename(columns={'toplam_fiyat': 'fiyat'}, inplace=True)"
   ]
  },
  {
   "cell_type": "markdown",
   "metadata": {},
   "source": [
    "Tablonun daha güzel sırayla gözükmesi için yeniden sıralama yapalım."
   ]
  },
  {
   "cell_type": "code",
   "execution_count": 105,
   "metadata": {},
   "outputs": [],
   "source": [
    "yeni_siralama = ['marka_model', 'uretim_yili', 'sahiplik','km', 'vites_tipi_automatic', 'vites_tipi_manual','yakit_tipi_diesel','yakit_tipi_petrol','yakit_tipi_petrol + cng','fiyat']\n",
    "df = df[yeni_siralama]"
   ]
  },
  {
   "cell_type": "markdown",
   "metadata": {},
   "source": [
    "Yeniden sıraladık daha okunabilir oldu."
   ]
  },
  {
   "cell_type": "code",
   "execution_count": 106,
   "metadata": {},
   "outputs": [
    {
     "data": {
      "text/html": [
       "<div>\n",
       "<style scoped>\n",
       "    .dataframe tbody tr th:only-of-type {\n",
       "        vertical-align: middle;\n",
       "    }\n",
       "\n",
       "    .dataframe tbody tr th {\n",
       "        vertical-align: top;\n",
       "    }\n",
       "\n",
       "    .dataframe thead th {\n",
       "        text-align: right;\n",
       "    }\n",
       "</style>\n",
       "<table border=\"1\" class=\"dataframe\">\n",
       "  <thead>\n",
       "    <tr style=\"text-align: right;\">\n",
       "      <th></th>\n",
       "      <th>marka_model</th>\n",
       "      <th>uretim_yili</th>\n",
       "      <th>sahiplik</th>\n",
       "      <th>km</th>\n",
       "      <th>vites_tipi_automatic</th>\n",
       "      <th>vites_tipi_manual</th>\n",
       "      <th>yakit_tipi_diesel</th>\n",
       "      <th>yakit_tipi_petrol</th>\n",
       "      <th>yakit_tipi_petrol + cng</th>\n",
       "      <th>fiyat</th>\n",
       "    </tr>\n",
       "  </thead>\n",
       "  <tbody>\n",
       "    <tr>\n",
       "      <th>0</th>\n",
       "      <td>57</td>\n",
       "      <td>2015</td>\n",
       "      <td>0</td>\n",
       "      <td>37925</td>\n",
       "      <td>False</td>\n",
       "      <td>True</td>\n",
       "      <td>True</td>\n",
       "      <td>False</td>\n",
       "      <td>False</td>\n",
       "      <td>435199</td>\n",
       "    </tr>\n",
       "    <tr>\n",
       "      <th>1</th>\n",
       "      <td>33</td>\n",
       "      <td>2020</td>\n",
       "      <td>0</td>\n",
       "      <td>5822</td>\n",
       "      <td>False</td>\n",
       "      <td>True</td>\n",
       "      <td>False</td>\n",
       "      <td>True</td>\n",
       "      <td>False</td>\n",
       "      <td>1171299</td>\n",
       "    </tr>\n",
       "    <tr>\n",
       "      <th>2</th>\n",
       "      <td>55</td>\n",
       "      <td>2015</td>\n",
       "      <td>0</td>\n",
       "      <td>95369</td>\n",
       "      <td>False</td>\n",
       "      <td>True</td>\n",
       "      <td>True</td>\n",
       "      <td>False</td>\n",
       "      <td>False</td>\n",
       "      <td>633299</td>\n",
       "    </tr>\n",
       "    <tr>\n",
       "      <th>3</th>\n",
       "      <td>67</td>\n",
       "      <td>2018</td>\n",
       "      <td>0</td>\n",
       "      <td>33167</td>\n",
       "      <td>False</td>\n",
       "      <td>True</td>\n",
       "      <td>False</td>\n",
       "      <td>True</td>\n",
       "      <td>False</td>\n",
       "      <td>302399</td>\n",
       "    </tr>\n",
       "    <tr>\n",
       "      <th>4</th>\n",
       "      <td>18</td>\n",
       "      <td>2017</td>\n",
       "      <td>0</td>\n",
       "      <td>19885</td>\n",
       "      <td>False</td>\n",
       "      <td>True</td>\n",
       "      <td>True</td>\n",
       "      <td>False</td>\n",
       "      <td>False</td>\n",
       "      <td>845299</td>\n",
       "    </tr>\n",
       "  </tbody>\n",
       "</table>\n",
       "</div>"
      ],
      "text/plain": [
       "   marka_model  uretim_yili  sahiplik     km  vites_tipi_automatic  \\\n",
       "0           57         2015         0  37925                 False   \n",
       "1           33         2020         0   5822                 False   \n",
       "2           55         2015         0  95369                 False   \n",
       "3           67         2018         0  33167                 False   \n",
       "4           18         2017         0  19885                 False   \n",
       "\n",
       "   vites_tipi_manual  yakit_tipi_diesel  yakit_tipi_petrol  \\\n",
       "0               True               True              False   \n",
       "1               True              False               True   \n",
       "2               True               True              False   \n",
       "3               True              False               True   \n",
       "4               True               True              False   \n",
       "\n",
       "   yakit_tipi_petrol + cng    fiyat  \n",
       "0                    False   435199  \n",
       "1                    False  1171299  \n",
       "2                    False   633299  \n",
       "3                    False   302399  \n",
       "4                    False   845299  "
      ]
     },
     "execution_count": 106,
     "metadata": {},
     "output_type": "execute_result"
    }
   ],
   "source": [
    "df.head()"
   ]
  },
  {
   "cell_type": "code",
   "execution_count": 107,
   "metadata": {},
   "outputs": [
    {
     "name": "stdout",
     "output_type": "stream",
     "text": [
      "<class 'pandas.core.frame.DataFrame'>\n",
      "Index: 1047 entries, 0 to 1083\n",
      "Data columns (total 10 columns):\n",
      " #   Column                   Non-Null Count  Dtype\n",
      "---  ------                   --------------  -----\n",
      " 0   marka_model              1047 non-null   int64\n",
      " 1   uretim_yili              1047 non-null   int64\n",
      " 2   sahiplik                 1047 non-null   int64\n",
      " 3   km                       1047 non-null   int64\n",
      " 4   vites_tipi_automatic     1047 non-null   bool \n",
      " 5   vites_tipi_manual        1047 non-null   bool \n",
      " 6   yakit_tipi_diesel        1047 non-null   bool \n",
      " 7   yakit_tipi_petrol        1047 non-null   bool \n",
      " 8   yakit_tipi_petrol + cng  1047 non-null   bool \n",
      " 9   fiyat                    1047 non-null   int64\n",
      "dtypes: bool(5), int64(5)\n",
      "memory usage: 54.2 KB\n"
     ]
    }
   ],
   "source": [
    "df.info()"
   ]
  },
  {
   "cell_type": "markdown",
   "metadata": {},
   "source": [
    "### Biraz da renkler: Görselleştirme "
   ]
  },
  {
   "cell_type": "markdown",
   "metadata": {},
   "source": [
    "Her bir özelliğin **Histogram** Grafikleri "
   ]
  },
  {
   "cell_type": "code",
   "execution_count": 108,
   "metadata": {},
   "outputs": [
    {
     "data": {
      "image/png": "[encoded data removed]",
      "text/plain": [
       "<Figure size 1200x600 with 10 Axes>"
      ]
     },
     "metadata": {},
     "output_type": "display_data"
    }
   ],
   "source": [
    "# Her bir özellik için histogram grafikleri 4'erli oluşturma\n",
    "num_columns = len(df.columns)\n",
    "rows = math.ceil(num_columns / 4)\n",
    "fig, axes = plt.subplots(rows,4 , figsize=(12, 2 * rows), constrained_layout=True)\n",
    "axes = axes.flatten()\n",
    "\n",
    "for i, column in enumerate(df.columns):\n",
    "    sns.histplot(df[column], bins=30, kde=True, ax=axes[i])\n",
    "    axes[i].set_title(f\"{column} Dağılımı\")\n",
    "    axes[i].set_xlabel(column)\n",
    "    axes[i].set_ylabel(\"Frekans\")\n",
    "\n",
    "# Kalan boş grafik alanlarını temizle\n",
    "for j in range(i + 1, len(axes)):\n",
    "    fig.delaxes(axes[j])\n",
    "\n",
    "plt.show()\n"
   ]
  },
  {
   "cell_type": "markdown",
   "metadata": {},
   "source": [
    "Her bir özelliğin **BoxPlot** Grafikleri "
   ]
  },
  {
   "cell_type": "code",
   "execution_count": 109,
   "metadata": {},
   "outputs": [
    {
     "data": {
      "image/png": "[encoded data removed]",
      "text/plain": [
       "<Figure size 1200x600 with 10 Axes>"
      ]
     },
     "metadata": {},
     "output_type": "display_data"
    }
   ],
   "source": [
    "num_columns = len(df.columns)\n",
    "rows = math.ceil(num_columns / 4)\n",
    "fig, axes = plt.subplots(rows, 4, figsize=(12, 2 * rows), constrained_layout=True)\n",
    "axes = axes.flatten()  # Axisleri 1D diziye çevirelim\n",
    "\n",
    "for i, column in enumerate(df.columns):\n",
    "    sns.boxplot(x=df[column], ax=axes[i])\n",
    "    axes[i].set_title(f\"{column} Boxplot\")\n",
    "    axes[i].set_xlabel(column)\n",
    "\n",
    "# Kalan boş grafik alanlarını temizleyelim\n",
    "for j in range(i + 1, len(axes)):\n",
    "    fig.delaxes(axes[j])\n",
    "\n",
    "plt.show()"
   ]
  },
  {
   "cell_type": "markdown",
   "metadata": {},
   "source": [
    "Özellikler arası ilişkiyi gösteren **Korelasyon Matrisi Isı Haritası**"
   ]
  },
  {
   "cell_type": "code",
   "execution_count": 110,
   "metadata": {},
   "outputs": [
    {
     "data": {
      "image/png": "[encoded data removed]",
      "text/plain": [
       "<Figure size 1000x800 with 2 Axes>"
      ]
     },
     "metadata": {},
     "output_type": "display_data"
    }
   ],
   "source": [
    "plt.figure(figsize=(10, 8))\n",
    "correlation = df.corr()\n",
    "sns.heatmap(correlation, annot=True, cmap=\"coolwarm\", fmt=\".2f\", linewidths=0.5)\n",
    "plt.title(\"Korelasyon Matrisi\")\n",
    "plt.show()\n"
   ]
  },
  {
   "cell_type": "markdown",
   "metadata": {},
   "source": [
    "**Yakıt tipi** ve **vites türüne** göre fiyat analizi"
   ]
  },
  {
   "cell_type": "code",
   "execution_count": 111,
   "metadata": {},
   "outputs": [
    {
     "data": {
      "image/png": "[encoded data removed]",
      "text/plain": [
       "<Figure size 1200x500 with 2 Axes>"
      ]
     },
     "metadata": {},
     "output_type": "display_data"
    }
   ],
   "source": [
    "\n",
    "# Yakıt tipine göre fiyatların ortalaması\n",
    "yakit_fiyat = df.groupby('yakit_tipi_diesel')['fiyat'].mean()\n",
    "\n",
    "# Vites türüne göre fiyatların ortalaması\n",
    "vites_fiyat = df.groupby('vites_tipi_automatic')['fiyat'].mean()\n",
    "\n",
    "# Yan yana grafikler için subplotlar\n",
    "fig, axes = plt.subplots(1, 2, figsize=(12, 5))\n",
    "\n",
    "#Yakıt tipine göre\n",
    "yakit_fiyat.plot(kind='bar', color=['blue', 'orange'], ax=axes[0])\n",
    "axes[0].set_title(\"Yakıt Tipine Göre Ortalama Fiyat\")\n",
    "axes[0].set_xlabel(\"Dizel mi?\")\n",
    "axes[0].set_ylabel(\"Ortalama Fiyat\")\n",
    "axes[0].set_xticks([0, 1])\n",
    "axes[0].set_xticklabels([\"Hayır\", \"Evet\"], rotation=0)\n",
    "\n",
    "#Vites türüne göre\n",
    "vites_fiyat.plot(kind='bar', color=['purple', 'cyan'], ax=axes[1])\n",
    "axes[1].set_title(\"Vites Türüne Göre Ortalama Fiyat\")\n",
    "axes[1].set_xlabel(\"Otomatik mi?\")\n",
    "axes[1].set_ylabel(\"Ortalama Fiyat\")\n",
    "axes[1].set_xticks([0, 1])\n",
    "axes[1].set_xticklabels([\"Hayır\", \"Evet\"], rotation=0)\n",
    "\n",
    "plt.tight_layout()\n",
    "plt.show()\n"
   ]
  },
  {
   "cell_type": "markdown",
   "metadata": {},
   "source": [
    "### Modelleme zamanı..."
   ]
  },
  {
   "cell_type": "markdown",
   "metadata": {},
   "source": [
    "Bazı kaynaklardan ve yapay zekadan yararlanarak en iyi sonucu alabileceğim makine öğrenmesi modellerini belirledim. Ardından bunlarla alakalı deneme yanılma yollarıyla çok test yaptım onları koymuyorum, gereksiz kod fazlalığı oluşmasın. Yaptığım araştırma ve testlerden sonra belirlediğim *modeller* ve *parametreleri* ile makineyi eğitiyorum ve sonuçları alıyorum."
   ]
  },
  {
   "cell_type": "code",
   "execution_count": 112,
   "metadata": {},
   "outputs": [
    {
     "name": "stdout",
     "output_type": "stream",
     "text": [
      "Model: Linear Regression\n",
      "  Doğruluk Yüzdesi: 44.24%\n",
      "  MSE: 44601414454.1821\n",
      "  RMSE: 211190.4696\n",
      "\n",
      "\n",
      "Model: Ridge Regression\n",
      "  Doğruluk Yüzdesi: 44.36%\n",
      "  MSE: 44508776455.0719\n",
      "  RMSE: 210971.0323\n",
      "\n",
      "\n",
      "Model: Lasso Regression\n",
      "  Doğruluk Yüzdesi: 44.24%\n",
      "  MSE: 44601375430.7995\n",
      "  RMSE: 211190.3772\n",
      "\n",
      "\n",
      "Model: Random Forest\n",
      "  Doğruluk Yüzdesi: 79.36%\n",
      "  MSE: 16506494071.4714\n",
      "  RMSE: 128477.6014\n",
      "\n",
      "\n",
      "Model: Gradient Boosting\n",
      "  Doğruluk Yüzdesi: 87.18%\n",
      "  MSE: 10255281924.4648\n",
      "  RMSE: 101268.3659\n",
      "\n",
      "\n",
      "Model: KNN\n",
      "  Doğruluk Yüzdesi: 65.60%\n",
      "  MSE: 73441490175.2381\n",
      "  RMSE: 271000.9044\n",
      "\n",
      "\n"
     ]
    }
   ],
   "source": [
    "# Veri setini eğitim ve test olarak ayıralım\n",
    "x = df.drop(\"fiyat\", axis=1)\n",
    "y = df[\"fiyat\"]\n",
    "x_train, x_test, y_train, y_test = train_test_split(x, y, test_size=0.2, random_state=42)\n",
    "\n",
    "# Kullanacağım modellerin oluşturulması ve en iyi sonuç parametreleri\n",
    "models = {\n",
    "    \"Linear Regression\": LinearRegression(),\n",
    "    \"Ridge Regression\": Ridge(alpha=1.0),\n",
    "    \"Lasso Regression\": Lasso(alpha=0.1),\n",
    "    \"Random Forest\": RandomForestRegressor(random_state=42),\n",
    "    \"Gradient Boosting\": GradientBoostingRegressor(random_state=42),\n",
    "    \"KNN\": KNeighborsRegressor()\n",
    "}\n",
    "\n",
    "# Sonuçları saklamak için bir sözlük oluşturalım\n",
    "results = {}\n",
    "\n",
    "# Modelleri eğitip test edelim\n",
    "for name, model in models.items():\n",
    "    model.fit(x_train, y_train)\n",
    "    y_pred = model.predict(x_test)\n",
    "\n",
    "    if name in [\"Linear Regression\", \"Ridge Regression\", \"Lasso Regression\", \"Random Forest\", \"Gradient Boosting\"]:\n",
    "        accuracy = r2_score(y_test, y_pred) * 100  # R² skorunu yüzdeye çevirelim\n",
    "    elif name == \"KNN\":\n",
    "        accuracy = 100 - mean_absolute_error(y_test, y_pred) / y_test.mean() * 100  # KNN'de R² skoru olmadığı için ortalama hata üzerinden hesaplayalım\n",
    "\n",
    "    mse = mean_squared_error(y_test, y_pred)\n",
    "    rmse = np.sqrt(mse)\n",
    "\n",
    "    results[name] = {\n",
    "        \"MSE\": mse,\n",
    "        \"RMSE\": rmse,\n",
    "        \"Doğruluk Yüzdesi\": accuracy\n",
    "    }\n",
    "\n",
    "# Sonuçları yazdıralım\n",
    "for model_name, metrics in results.items():\n",
    "    print(f\"Model: {model_name}\")\n",
    "    print(f\"  Doğruluk Yüzdesi: {metrics['Doğruluk Yüzdesi']:.2f}%\")\n",
    "    print(f\"  MSE: {metrics['MSE']:.4f}\")\n",
    "    print(f\"  RMSE: {metrics['RMSE']:.4f}\")\n",
    "    print(\"\\n\")"
   ]
  },
  {
   "cell_type": "markdown",
   "metadata": {},
   "source": [
    "Bir de sonuç grafiğinde görelim."
   ]
  },
  {
   "cell_type": "code",
   "execution_count": 113,
   "metadata": {},
   "outputs": [
    {
     "data": {
      "image/png": "[encoded data removed]",
      "text/plain": [
       "<Figure size 1200x600 with 2 Axes>"
      ]
     },
     "metadata": {},
     "output_type": "display_data"
    }
   ],
   "source": [
    "model_names = list(results.keys())\n",
    "accuracies = [metrics['Doğruluk Yüzdesi'] for metrics in results.values()]\n",
    "mses = [metrics['MSE'] for metrics in results.values()]\n",
    "rmses = [metrics['RMSE'] for metrics in results.values()]\n",
    "\n",
    "x = range(len(model_names))\n",
    "\n",
    "fig, ax1 = plt.subplots(figsize=(12, 6))\n",
    "\n",
    "# Doğruluk oranı için çubuk grafiği\n",
    "ax1.bar(x, accuracies, color='skyblue', label='Doğruluk Yüzdesi')\n",
    "ax1.set_xlabel('Modeller')\n",
    "ax1.set_ylabel('Doğruluk Yüzdesi', color='blue')\n",
    "ax1.set_xticks(x)\n",
    "ax1.set_xticklabels(model_names, rotation=45, ha='right')\n",
    "ax1.tick_params(axis='y', labelcolor='blue')\n",
    "\n",
    "# MSE ve RMSE için ikincil eksen\n",
    "ax2 = ax1.twinx()\n",
    "ax2.plot(x, mses, color='red', marker='o', label='MSE')\n",
    "ax2.plot(x, rmses, color='green', marker='s', label='RMSE')\n",
    "ax2.set_ylabel('Hata Değerleri', color='black')\n",
    "ax2.tick_params(axis='y', labelcolor='black')\n",
    "\n",
    "fig.tight_layout()\n",
    "fig.legend(loc='upper left', bbox_to_anchor=(0.1, 0.9))\n",
    "plt.title('Modellere Göre Performans Karşılaştırması')\n",
    "plt.show()\n"
   ]
  },
  {
   "cell_type": "markdown",
   "metadata": {},
   "source": [
    "### Evet, Sonuçlar."
   ]
  },
  {
   "cell_type": "markdown",
   "metadata": {},
   "source": [
    "*Gradient Boosting* modeli **%87.18** doğruluk oranıyla açık ara en iyi sonuçları verdi. Onu **%79.36** ile *Random Forest* takip etti, bu da oldukça iyi bir değer. *Linear*, *Ridge* ve *Lasso* regresyon modelleri olmasına rağmen **%44** civarında kaldı, bu veri setine uymadı. *KNN*, **%65.60** doğruluğa ulaşsa da yüksek hata oranları oluştu bu nedenle diğer modellere göre zayıf kaldı. Özetle, fiyat tahmini için ***Gradient Boosting*** ve ***Random Forest*** doğrulukta en iyi modeller oldu."
   ]
  }
 ],
 "metadata": {
  "kernelspec": {
   "display_name": "Python 3",
   "language": "python",
   "name": "python3"
  },
  "language_info": {
   "codemirror_mode": {
    "name": "ipython",
    "version": 3
   },
   "file_extension": ".py",
   "mimetype": "text/x-python",
   "name": "python",
   "nbconvert_exporter": "python",
   "pygments_lexer": "ipython3",
   "version": "3.13.0"
  }
 },
 "nbformat": 4,
 "nbformat_minor": 2
}
